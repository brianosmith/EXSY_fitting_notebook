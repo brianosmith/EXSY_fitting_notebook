{
  "nbformat": 4,
  "nbformat_minor": 0,
  "metadata": {
    "colab": {
      "name": "NKMP K binding",
      "provenance": [],
      "collapsed_sections": [],
      "authorship_tag": "ABX9TyOMW2MP1Hw4YSQqNzKNS90N",
      "include_colab_link": true
    },
    "kernelspec": {
      "name": "python3",
      "display_name": "Python 3"
    }
  },
  "cells": [
    {
      "cell_type": "markdown",
      "metadata": {
        "id": "view-in-github",
        "colab_type": "text"
      },
      "source": [
        "<a href=\"https://colab.research.google.com/github/brianosmith/EXSY_fitting_notebook/blob/master/NKMP_K_binding.ipynb\" target=\"_parent\"><img src=\"https://colab.research.google.com/assets/colab-badge.svg\" alt=\"Open In Colab\"/></a>"
      ]
    },
    {
      "cell_type": "markdown",
      "metadata": {
        "id": "W3Z6qDwWEkpD"
      },
      "source": [
        "#Saturation curves fitting for NKMP K+ interaction\n",
        "\n",
        "Goal is to produce a tool to calculate the fit of fluorescence data from NKMP binding to K+."
      ]
    },
    {
      "cell_type": "markdown",
      "metadata": {
        "id": "OgLEsP0EE_Fi"
      },
      "source": [
        "Expression to fit is\n",
        "\n",
        "$\n",
        "Q = (Q_{max} - Q_0)Y + Q_0\n",
        "$\n",
        "\n",
        "Where $Q$ is the fluoresence, $Q_{max}$ and $Q_0$ are the maximum and mimimum fluorescence yields and Y is\n",
        "\n",
        "$\n",
        "Y = \\frac{([M_{tot}] + [L_{tot}] + K_d) \\pm \\sqrt{([M_{tot}] + [L_{tot}] + K_d)^2 - 4[M_{tot}][L_{tot}]} }{ 2[M_{tot}]}\n",
        "$\n",
        "\n",
        "in which $M$ represents the fixed concentration component (usually the macromolecule) and $L$ the varying concentration component (usually the ligand) and $K_d$ is the dissociation constant."
      ]
    },
    {
      "cell_type": "code",
      "metadata": {
        "id": "d9JioLoAEaEs",
        "colab": {
          "base_uri": "https://localhost:8080/"
        },
        "outputId": "596cdb8e-f751-43e4-fb28-507ca41b9011"
      },
      "source": [
        "# sqrt is in the math package and has to be imported\n",
        "from math import sqrt\n",
        "\n",
        "# some values to calculate with\n",
        "M = 0.5\n",
        "Kd = 0.15\n",
        "L = 0.125\n",
        "\n",
        "# careful placement of brackets required to get the correct evaluation order\n",
        "# x**y to raise a value to a power\n",
        "\n",
        "Y = ((M + L + Kd) - sqrt((M + L + Kd)**2 - (4 * M * L)))/(2 * M)\n",
        "\n",
        "print(Y)"
      ],
      "execution_count": 2,
      "outputs": [
        {
          "output_type": "stream",
          "text": [
            "0.1828640358836494\n"
          ],
          "name": "stdout"
        }
      ]
    },
    {
      "cell_type": "code",
      "metadata": {
        "colab": {
          "base_uri": "https://localhost:8080/"
        },
        "id": "uDPUYSSQvDv5",
        "outputId": "e4cca3d0-11e1-420e-ba13-c76410acfe08"
      },
      "source": [
        "#include response range\n",
        "Qmax = 1.0e5\n",
        "Q0 = 0.3e2\n",
        "\n",
        "Q = (Qmax - Q0)*Y + Q0\n",
        "\n",
        "print(Q)"
      ],
      "execution_count": 4,
      "outputs": [
        {
          "output_type": "stream",
          "text": [
            "18310.91766728843\n"
          ],
          "name": "stdout"
        }
      ]
    },
    {
      "cell_type": "code",
      "metadata": {
        "id": "gyBcwiKpTo6y",
        "colab": {
          "base_uri": "https://localhost:8080/",
          "height": 352
        },
        "outputId": "30ac5e29-553f-41cd-a3ce-a1ae9683808e"
      },
      "source": [
        "# for drawing the graph\n",
        "%matplotlib inline\n",
        "import matplotlib.pyplot as plt\n",
        "# math function as above\n",
        "from math import sqrt\n",
        "# for creating the L values over which to sample the function. Would also be nice to capture the results in a more sophisticated array.\n",
        "import numpy as np\n",
        "\n",
        "M = 0.1\n",
        "Kd = 0.2\n",
        "\n",
        "Qmax = 1.0e5\n",
        "Q0 = 0.3e2\n",
        "\n",
        "Llow = 0.1\n",
        "Lhigh = 1.0\n",
        "nL = 11\n",
        "\n",
        "Lval = np.linspace(Llow, Lhigh, nL)\n",
        "\n",
        "Yval = []\n",
        "Qval = []\n",
        "Lookup = [] # could be np.array()\n",
        "for L in Lval:\n",
        "  Y = ((M + L + Kd) - sqrt((M + L + Kd)**2 - (4 * M * L)))/(2 * M)\n",
        "  Yval.append(Y)\n",
        "  Q = (Qmax - Q0)*Y + Q0\n",
        "  Qval.append(Q)\n",
        "  Lookup.append([L,Y,Q])\n",
        "\n",
        "# crude numerical output - should be formatted better\n",
        "print(\"Lookup: [L], Y, Q ...\", Lookup)\n",
        "\n",
        "#plot the results\n",
        "plt.title(\"simulated binding curve\")\n",
        "plt.xlabel('[L] (mM)')\n",
        "plt.ylabel('Q')\n",
        "plt.plot(Lval,Qval, label='Q')\n",
        "#plt.legend()\n",
        "\n"
      ],
      "execution_count": 5,
      "outputs": [
        {
          "output_type": "stream",
          "text": [
            "Lookup: [L], Y, Q ... [[0.1, 0.26794919243112253, 26816.88076733932], [0.19, 0.4245370899470907, 42470.97288201066], [0.28, 0.5314561435345977, 53159.67066915373], [0.37, 0.6072823696195045, 60740.01849086187], [0.45999999999999996, 0.6631225717283756, 66322.36349568571], [0.5499999999999999, 0.7056382803105438, 70572.65888264506], [0.64, 0.7389395359323281, 73901.78540715484], [0.73, 0.7656528422124237, 76572.314635976], [0.82, 0.7875162337936142, 78757.99789234762], [0.9099999999999999, 0.8057173989190858, 80577.568369941], [1.0, 0.8210916541997271, 82114.53267034671]]\n"
          ],
          "name": "stdout"
        },
        {
          "output_type": "execute_result",
          "data": {
            "text/plain": [
              "[<matplotlib.lines.Line2D at 0x7f10f5c88250>]"
            ]
          },
          "metadata": {
            "tags": []
          },
          "execution_count": 5
        },
        {
          "output_type": "display_data",
          "data": {
            "image/png": "[encoded data removed]",
            "text/plain": [
              "<Figure size 432x288 with 1 Axes>"
            ]
          },
          "metadata": {
            "tags": [],
            "needs_background": "light"
          }
        }
      ]
    },
    {
      "cell_type": "markdown",
      "metadata": {
        "id": "C6zHDWyxbLcO"
      },
      "source": [
        "# Simulated response curve for a titration\n",
        "In the case that a titration is performed experimentally, it is often the case that the sample is constructed with one partner (often the protein) alone and the other partner (often a small molecule) is increased in concentration by successive addition of material from a concentrated stock solution. In this case, the total volume of the sample will increase with the consequence that the concentration of the initial partner is not constant. Unless the change in volume is very small, this should be accounted for to get be able to fit the data accurately.\n",
        "\n",
        "Where the availability of material is not limiting, it is good practice to construct a series of samples with the non-varied partner always present at the same concentration.\n",
        "\n",
        "Alternatively, where the availability of material is limiting, it is good practice to start with two samples of equal volume containing equal concentrations of the non-varied partner and concentrations of the varied partner at the extremes of the range to be explored. Intermediate points are then constructed by successively exchanging volumes between the two samples. The concentration of the non-varied partner is this kept constant.\n",
        "\n",
        "This notebook deals with the second case, where a separate sample is assembled for each point in the titration and the macromolecule concentration is held constant.\n",
        "\n"
      ]
    },
    {
      "cell_type": "code",
      "metadata": {
        "colab": {
          "base_uri": "https://localhost:8080/",
          "height": 352
        },
        "id": "toTF0xeFneH6",
        "outputId": "132f2957-81a2-47ac-d291-07ec0112d213"
      },
      "source": [
        "# for drawing the graph\n",
        "%matplotlib inline\n",
        "import matplotlib.pyplot as plt\n",
        "# math function as above\n",
        "from math import sqrt\n",
        "# for creating the L values over which to sample the function. Would also be nice to capture the results in a more sophisticated array.\n",
        "import numpy as np\n",
        "\n",
        "M = 0.1\n",
        "Kd = 0.2\n",
        "\n",
        "Ls = 10.0\n",
        "Llow = 0.001\n",
        "Lhigh = 1.0\n",
        "nL = 101\n",
        "\n",
        "Lval = np.linspace(Llow, Lhigh, nL)\n",
        "\n",
        "Yval = []\n",
        "Lprop = []\n",
        "Lookup = [] # could be np.array()\n",
        "for L in Lval:\n",
        "  Y = ((M + L + Kd) - sqrt((M + L + Kd)**2 - (4 * M * L)))/(2 * M)\n",
        "  Yval.append(Y)\n",
        "  Lprop.append(L/Lhigh)\n",
        "  Lookup.append([L,Y])\n",
        "\n",
        "# crude numerical output - should be formatted better\n",
        "print(\"Lookup: [L], Y...\", Lookup)\n",
        "\n",
        "#plot the results\n",
        "plt.title(\"simulated binding curve\")\n",
        "plt.xlabel('[L] (mM)')\n",
        "plt.ylabel('Y')\n",
        "plt.plot(Lval,Yval, label='Y')\n",
        "plt.plot(Lval,Lprop, label='Lprop')\n",
        "plt.legend()\n",
        "\n"
      ],
      "execution_count": 7,
      "outputs": [
        {
          "output_type": "stream",
          "text": [
            "Lookup: [L], Y... [[0.001, 0.0033259341654726104], [0.01099, 0.035749716133517684], [0.020980000000000002, 0.06675045915554761], [0.030970000000000004, 0.09638007006872285], [0.04096, 0.12469144676702681], [0.05095, 0.15173797181680493], [0.06094000000000001, 0.17757305658101769], [0.07093, 0.20224973901599747], [0.08092, 0.2258203360774233], [0.09091, 0.2483361498334974], [0.1009, 0.2698472249467332], [0.11089, 0.2904021541352683], [0.12088000000000002, 0.3100479275236981], [0.13087000000000001, 0.3288298213933652], [0.14086, 0.3467913216891827], [0.15085, 0.36397407768072126], [0.16084, 0.38041788135974197], [0.17083, 0.39616066844070874], [0.18082, 0.4112385371782615], [0.19081, 0.42568578159641157], [0.2008, 0.43953493611541106], [0.21079, 0.4528168289468179], [0.22078, 0.4655606419934183], [0.23077, 0.4777939753305982], [0.24076000000000003, 0.48954291465512056], [0.25075000000000003, 0.5008321003640633], [0.26074, 0.511684797170839], [0.27073, 0.522122963377864], [0.28072, 0.5321673191085519], [0.29071, 0.5418374129573397], [0.3007, 0.5511516866480815], [0.31069, 0.5601275374011485], [0.32068, 0.5687813778005968], [0.33067, 0.5771286930273251], [0.34066, 0.5851840953846221], [0.35065, 0.5929613760909325], [0.36064, 0.6004735543529383], [0.37063, 0.6077329237618556], [0.38062, 0.6147510960785413], [0.39061, 0.6215390424898581], [0.4006, 0.6281071324308446], [0.41059, 0.6344651700754039], [0.42058, 0.6406224286032886], [0.43057, 0.6465876823537176], [0.44056, 0.6523692369765222], [0.45055, 0.6579749576907856], [0.46054, 0.6634122957587979], [0.47053, 0.6686883132801363], [0.48052000000000006, 0.6738097064070575], [0.49051000000000006, 0.6787828270782603], [0.5005000000000001, 0.6836137033637324], [0.51049, 0.6883080585088269], [0.52048, 0.6928713287611143], [0.53047, 0.697308680058949], [0.54046, 0.7016250236561522], [0.55045, 0.7058250307528008], [0.56044, 0.7099131461978153], [0.57043, 0.7138936013249425], [0.58042, 0.7177704259797824], [0.59041, 0.7215474597917781], [0.6004, 0.7252283627415335], [0.61039, 0.7288166250704775], [0.62038, 0.7323155765767303], [0.63037, 0.7357283953380611], [0.64036, 0.7390581159000525], [0.6503500000000001, 0.7423076369649606], [0.66034, 0.7454797286143344], [0.6703300000000001, 0.7485770390961849], [0.68032, 0.7516021012053514], [0.6903100000000001, 0.7545573382837562], [0.7003, 0.7574450698653773], [0.7102900000000001, 0.7602675169890527], [0.72028, 0.763026807200653], [0.7302700000000001, 0.7657249792646431], [0.74026, 0.7683639876037013], [0.7502500000000001, 0.770945706483766], [0.76024, 0.7734719339606977], [0.7702300000000001, 0.7759443956036249], [0.78022, 0.7783647480090317], [0.7902100000000001, 0.7807345821186767], [0.8002, 0.7830554263535483], [0.8101900000000001, 0.7853287495752453], [0.82018, 0.7875559638853991], [0.8301700000000001, 0.7897384272730373], [0.84016, 0.7918774461191591], [0.8501500000000001, 0.7939742775671205], [0.86014, 0.7960301317669316], [0.8701300000000001, 0.7980461740009737], [0.88012, 0.8000235266981837], [0.8901100000000001, 0.80196327134329], [0.9001, 0.8038664502872628], [0.9100900000000001, 0.8057340684647174], [0.92008, 0.8075670950236868], [0.9300700000000001, 0.809366464872785], [0.94006, 0.8111330801505134], [0.9500500000000001, 0.8128678116211108], [0.9600400000000001, 0.8145715000011167], [0.9700300000000001, 0.8162449572205344], [0.9800200000000001, 0.8178889676222378], [0.9900100000000001, 0.8195042891030535], [1.0, 0.8210916541997271]]\n"
          ],
          "name": "stdout"
        },
        {
          "output_type": "execute_result",
          "data": {
            "text/plain": [
              "<matplotlib.legend.Legend at 0x7f10f5be2b90>"
            ]
          },
          "metadata": {
            "tags": []
          },
          "execution_count": 7
        },
        {
          "output_type": "display_data",
          "data": {
            "image/png": "[encoded data removed]",
            "text/plain": [
              "<Figure size 432x288 with 1 Axes>"
            ]
          },
          "metadata": {
            "tags": [],
            "needs_background": "light"
          }
        }
      ]
    },
    {
      "cell_type": "code",
      "metadata": {
        "id": "DC1CfJU-mNdt"
      },
      "source": [
        "def fracSat(Lvals, Kd, M0):\n",
        "  # Function to simulate titrated saturation curve with fixed volume\n",
        "  # Lvals is an array of deliberately varied component concentrations used\n",
        "  # M is the concentration of the non-varied component\n",
        "  # Kd is the Kd (supply an initial estimate for fitting)\n",
        "  # returns an array of fractional saturation values\n",
        "\n",
        "  Ys = []\n",
        "  for L in Lvals:\n",
        "    Y = ((M + L + Kd) - sqrt((M + L + Kd)**2 - (4 * M * L)))/(2 * M)\n",
        "    Ys.append(Y)\n",
        "    \n",
        "  Ys = np.array(Ys)\n",
        "  return Ys\n",
        "\n",
        "def makeResponseTitrated(Mzero):\n",
        "  # Allows a case specific responseTitrated() to be defined for curve_fit since\n",
        "  # can't pass \"fixed\" args with args=()\n",
        "  # If Q0 is known (a common case) adjust these defs to shift it\n",
        "  def responseTitrated(Lvals, Kd, Qmax, Q0):\n",
        "    # Function to wrap fracSatTitrated within an arbitrary response scale\n",
        "    # Q0 and Qmax are the limits of the response and can be left unconstrained for fitting\n",
        "    # Pass sensible guesses for Kd, Qmax & Q0 with p0=[] when using scipy.optimize\n",
        "    # returns an array of response values\n",
        "    M = Mzero\n",
        "\n",
        "    Ys = fracSat(Lvals, Kd, M)\n",
        "    Qs = ((Qmax-Q0)*Ys) + Q0\n",
        "    \n",
        "    return Qs\n",
        "\n",
        "  return responseTitrated\n",
        "\n",
        "# fit using scipy.optimize.curve_fit\n",
        "M0 = 1.0e-6 # known non-varied (NKMP) conc \n",
        "Kd0 = 1.0e-6; Qmax0 = 200; Q00 = 0 # initial guesses for fitted params\n",
        "nlfit, nlpcov = scipy.optimize.curve_fit(makeResponseTitrated(M0),\n",
        "                datasets.protein, datasets.iLambda, p0=[Kd0, Qmax0, Q00])\n",
        "\n",
        "fittedKd, fittedQmax, fittedQ0 = nlfit\n",
        "dKd, dQmax, dQ0 = [np.sqrt(nlpcov[j,j]) for j in range(nlfit.size)]\n",
        "print('fitted Kd: ', fittedKd,'+-',dKd)\n",
        "\n",
        "#create fitted function\n",
        "myResponseTitrated = makeResponseTitrated(M0)\n",
        "fitiLs = myResponseTitrated(datasets.protein, fittedKd, fittedQmax, fittedQ0)\n",
        "\n",
        "#add fitted values to last plot\n",
        "plt.plot(datasets.protein, fitiLs)\n",
        "ax4.text(0.05, 0.95, 'Kd = {0:0.3g}$\\pm${1:0.3g}'\n",
        "         .format(fittedKd, dKd), transform = ax4.transAxes)"
      ],
      "execution_count": null,
      "outputs": []
    }
  ]
}