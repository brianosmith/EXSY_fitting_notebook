{
  "nbformat": 4,
  "nbformat_minor": 0,
  "metadata": {
    "colab": {
      "name": "EXSY_simulation.ipynb",
      "provenance": [],
      "collapsed_sections": [],
      "toc_visible": true,
      "authorship_tag": "ABX9TyN14VG45Tjt1Nc4pLLiVnAZ",
      "include_colab_link": true
    },
    "kernelspec": {
      "name": "python3",
      "display_name": "Python 3"
    }
  },
  "cells": [
    {
      "cell_type": "markdown",
      "metadata": {
        "id": "view-in-github",
        "colab_type": "text"
      },
      "source": [
        "<a href=\"https://colab.research.google.com/github/brianosmith/EXSY_fitting_notebook/blob/master/EXSY_simulation.ipynb\" target=\"_parent\"><img src=\"https://colab.research.google.com/assets/colab-badge.svg\" alt=\"Open In Colab\"/></a>"
      ]
    },
    {
      "cell_type": "markdown",
      "metadata": {
        "id": "psfxJceWdTdY",
        "colab_type": "text"
      },
      "source": [
        "# Simulating ZZ-exchange EXSY NMR data"
      ]
    },
    {
      "cell_type": "markdown",
      "metadata": {
        "id": "ipt1rF1Bdi-b",
        "colab_type": "text"
      },
      "source": [
        "NMR spectroscopy can be used to monitor a wide range of chemical exchange processes on multiple timescales [[1]](https://doi.org/10.1016/S0076-6879(01)39315-1). One useful technique for exchange at relatively slow timescales ($~0.1-10 s^{-1}$) is nD ZZ-exchange EXSY, in which magnetization transfer between states due to exchange is visualized as additional crosspeaks whose intensities depend on the exchange rates between states and the length of the EXSY mixing time.\n",
        "\n",
        "In this notebook I will explore how to simulate EXSY exchange using Python with the aim of being able to fit experimental data to extract the exchange rates."
      ]
    },
    {
      "cell_type": "markdown",
      "metadata": {
        "id": "qqEIHPvgfeOX",
        "colab_type": "text"
      },
      "source": [
        "## Theory\n",
        "\n",
        "The evolution of the intensities of the progenitor crosspeaks and exchange crosspeaks in EXSY spectra is given by the following relationship [[2]](https://link.springer.com/protocol/10.1007/978-1-62703-398-5_9#Equ000922)\n",
        "\n",
        "$$ \\begin{bmatrix}I_{P}(T_{mix}) & I_{PL-P}(T_{mix})\\\\ I_{P-PL}(T_{mix}) & I_{PL}(T_{mix}) \\end{bmatrix}= \\exp \\left( -T_{mix} \\begin{bmatrix}k'_{on} + R_{1,P} & -k_{off}\\\\ -k'_{on} & k_{off} + R_{1,PL} \\end{bmatrix} \\right) \\begin{bmatrix}I_{P}(0) & 0 \\\\ 0 & I_{PL}(0) \\end{bmatrix} $$\n",
        "\n",
        "Where P and PL refer to the free and bound state of a macromolecule in equilibrium with a ligand\n",
        "\n",
        "$$P + L \\rightleftharpoons PL $$\n",
        "\n",
        "and $k'_{on}$ is the (pseudo 1st order) association rate ($k_{on}[L]$ for single ligand binding) and $k_{off}$ is the dissociation rate constant while $R_{1} $ are the longditudinal relaxation rates of the magnetization stored on the $z$ axis during $T_{mix}$.\n",
        "\n",
        "The theory should apply to any system involving exchange between two states."
      ]
    },
    {
      "cell_type": "markdown",
      "metadata": {
        "id": "hEH-yVoZ3uAx",
        "colab_type": "text"
      },
      "source": [
        "# Approach\n",
        "The equation for the evolution of the intensities involves a matrix exponential multiplication of the initial intensities of the form\n",
        "$$ y(t) = \\exp(At) y_0. $$\n",
        "Computational approaches to solving matrix exponentials are nicely explained here [[3]](https://colab.research.google.com/github/sdrelton/matrix_function_notebooks/blob/master/TheMatrixExponential.ipynb).\n",
        "\n",
        "As long as the matrix of rate and relaxation constants meet certain criteria, the methods implemented in [scipy.sparse.linalg.expm](https://docs.scipy.org/doc/scipy/reference/generated/scipy.sparse.linalg.expm.html) [[4]](https://doi.org/10.1137/09074721X) and [scipy.sparse.linalg.expm_multiply](http://docs.scipy.org/doc/scipy/reference/generated/scipy.sparse.linalg.expm_multiply.html#scipy.sparse.linalg.expm_multiply) [[5]](https://doi.org/10.1137/100788860) should allow efficient calculations.\n",
        "\n",
        "\n",
        "\n",
        "  \n"
      ]
    },
    {
      "cell_type": "code",
      "metadata": {
        "id": "pIFCFftbc3Z2",
        "colab_type": "code",
        "colab": {}
      },
      "source": [
        "%matplotlib inline\n",
        "import numpy as np\n",
        "import scipy as sp\n",
        "import scipy.sparse.linalg as la\n",
        "import matplotlib.pyplot as plt"
      ],
      "execution_count": 0,
      "outputs": []
    },
    {
      "cell_type": "code",
      "metadata": {
        "id": "wG0ule1o-C-1",
        "colab_type": "code",
        "outputId": "ccbfa8af-a70f-467d-9c9e-d98437d0c6d1",
        "colab": {
          "base_uri": "https://localhost:8080/",
          "height": 312
        }
      },
      "source": [
        "kex = 10.0   # s^{-1}\n",
        "kon = 4.0    # M * M^{-1}s^{-1} concentration times diffusion limited on rate\n",
        "koff = kex - kon\n",
        "R1p = 1.0    # s^{-1}\n",
        "R1pl = R1p   # keep things simple for now\n",
        "pa = 0.3\n",
        "pb = 1 - pa\n",
        "\n",
        "\n",
        "A = np.array([[kon + R1p, -1.0*koff],\n",
        "              [-1.0*kon, koff + R1pl]], dtype=np.double)\n",
        "\n",
        "yzero = np.array([[pa,0],[0,pb]]) # starting intensities/populations\n",
        "\n",
        "tStart = 0.0\n",
        "tStop = 1.0        # Tmix up to about 1/R1\n",
        "nTimes = 51\n",
        "tval = np.linspace(tStart,tStop,nTimes) # to get a matching time axis for plotting\n",
        "\n",
        "A = -1.0 * A  # formula is e^{-1*t*A} but expm_multiply() takes A and t\n",
        "y = la.expm_multiply(A,yzero,tStart,tStop,nTimes,True)\n",
        "\n",
        "#repr(y[:,0,0])\n",
        "\n",
        "#plot the results\n",
        "plt.title(\"EXSY intensities simulation\")\n",
        "plt.xlabel('time (s)')\n",
        "plt.ylabel('relative intensity')\n",
        "plt.plot(tval,y[:,0,0], label='P')\n",
        "plt.plot(tval,y[:,0,1], label='PL-P')\n",
        "plt.plot(tval,y[:,1,0], label='P-PL')\n",
        "plt.plot(tval,y[:,1,1], label='PL')\n",
        "plt.legend()\n"
      ],
      "execution_count": 0,
      "outputs": [
        {
          "output_type": "execute_result",
          "data": {
            "text/plain": [
              "<matplotlib.legend.Legend at 0x7f323a8bb278>"
            ]
          },
          "metadata": {
            "tags": []
          },
          "execution_count": 6
        },
        {
          "output_type": "display_data",
          "data": {
            "image/png": "[encoded data removed]",
            "text/plain": [
              "<Figure size 432x288 with 1 Axes>"
            ]
          },
          "metadata": {
            "tags": [],
            "needs_background": "light"
          }
        }
      ]
    },
    {
      "cell_type": "markdown",
      "metadata": {
        "id": "4msNgCjMQBxt",
        "colab_type": "text"
      },
      "source": [
        "## Fitting\n",
        "We are fitting multiple curves simultaneously, even for one site. Ultimately we will want to fit data from all well resolved signals simultaneously to get a more reliable fit for the common parameters ($k_{on}, k_{off}$) while allowing the site specific parameters ($R_{1,P}, R_{1,PL}$) to vary. The relative populations $p_{PL}/p_{P}$ could be independent parameters if we have enough data but should be available from the ratio of intensities of the respective peaks in a fully relaxed version of the experiments with $T_{mix}=0$ (so constraining $I_{PL}(0)/I_{P}(0)$).\n",
        "\n",
        "We could try:\n",
        "https://lmfit.github.io/lmfit-py/examples/example_fit_multi_datasets.html\n",
        "\n",
        "https://stackoverflow.com/questions/26242979/fit-multiple-parametric-curves-with-scipy\n",
        "\n",
        "we'll need to define a function that simulates the data\n",
        "\n",
        "Likely we won't be able to use expm_multiply because our real time series isn't guaranteed to be evenly spaced.\n",
        "\n",
        "Symfit would seem to be a nice route to manage writing the model and managing the multiple curve fitting\n",
        "\n",
        "https://symfit.readthedocs.io/en/latest/fitting_types.html#global-fitting\n",
        "\n"
      ]
    },
    {
      "cell_type": "markdown",
      "metadata": {
        "id": "4jR3Y3WVJowt",
        "colab_type": "text"
      },
      "source": [
        "### Sympy first\n",
        "Symfit is built on top of Sympy which is a CAS system enabling symbolic representation of the function for potential use as a model with symfit."
      ]
    },
    {
      "cell_type": "code",
      "metadata": {
        "id": "QUDw1ACt79zl",
        "colab_type": "code",
        "colab": {}
      },
      "source": [
        "#SymPy code for symbolic representation of the function for potential use as a model with SymFit\n",
        "#from __future__ import division # probably only needed on SymPy live which runs python 2.7\n",
        "from sympy import *\n",
        "\n",
        "kon, koff, R1P, R1PL = symbols('k_{on} k_{off} R_1P R_1PL')\n",
        "A = Matrix([[kon + R1P , -1*koff],[-1*kon, koff + R1PL]])\n",
        "IPzero, IPLzero = symbols('I_{P}(0) I_{PL}(0)')\n",
        "yzero = Matrix([[IPzero, 0],[0, IPLzero]])\n",
        "IP, IPL, IP_PL, IPL_P = symbols('I_{P} I_{PL} I_{P-PL} I_{PL-P}')\n",
        "y = Matrix([[IP, IPL_P],[IP_PL, IPL]])\n",
        "tmix = symbols('T_{mix}')\n",
        "Eq(y,exp(-1*tmix*A)*yzero)"
      ],
      "execution_count": 0,
      "outputs": []
    },
    {
      "cell_type": "markdown",
      "metadata": {
        "id": "-P2PMENxAG7A",
        "colab_type": "text"
      },
      "source": [
        "Sympy evaluates the equality and expands the matrix exponential as we'd expect, so that's promising.\n",
        "\n",
        "###Symfit next\n",
        "\n",
        "We would like a to build a symfit model to manage the fitting elegantly. First we need to pull symfit into the notebook execution environment - this will revert scipy to an earlier version and throw some incompatability errors."
      ]
    },
    {
      "cell_type": "code",
      "metadata": {
        "id": "hPjDB34gyskG",
        "colab_type": "code",
        "colab": {
          "base_uri": "https://localhost:8080/",
          "height": 923
        },
        "outputId": "15f5e3c6-7dab-4e45-d5e3-d6c4d99e63d4"
      },
      "source": [
        "!pip show scipy\n",
        "!pip install symfit\n",
        "!pip show scipy"
      ],
      "execution_count": 10,
      "outputs": [
        {
          "output_type": "stream",
          "text": [
            "Name: scipy\n",
            "Version: 1.4.1\n",
            "Summary: SciPy: Scientific Library for Python\n",
            "Home-page: https://www.scipy.org\n",
            "Author: None\n",
            "Author-email: None\n",
            "License: BSD\n",
            "Location: /usr/local/lib/python3.6/dist-packages\n",
            "Requires: numpy\n",
            "Required-by: yellowbrick, xgboost, umap-learn, Theano, tensorflow, tensorflow-privacy, statsmodels, sklearn-pandas, seaborn, scs, scikit-learn, scikit-image, resampy, pymc3, plotnine, osqp, mlxtend, missingno, matplotlib-venn, lucid, lightgbm, librosa, Keras, jaxlib, imgaug, imbalanced-learn, hyperopt, gym, gensim, fastai, fancyimpute, fa2, ecos, cvxpy, albumentations\n",
            "Collecting symfit\n",
            "\u001b[?25l  Downloading https://files.pythonhosted.org/packages/4e/b4/bdf3ed3c221506c5da3508e4d621d0b478dcc113820f3b43091c5a6e46a4/symfit-0.5.2.tar.gz (943kB)\n",
            "\u001b[K     |████████████████████████████████| 952kB 4.7MB/s \n",
            "\u001b[?25hRequirement already satisfied: numpy>=1.12 in /usr/local/lib/python3.6/dist-packages (from symfit) (1.18.4)\n",
            "Collecting scipy<1.2,>=1.0\n",
            "\u001b[?25l  Downloading https://files.pythonhosted.org/packages/a8/0b/f163da98d3a01b3e0ef1cab8dd2123c34aee2bafbb1c5bffa354cc8a1730/scipy-1.1.0-cp36-cp36m-manylinux1_x86_64.whl (31.2MB)\n",
            "\u001b[K     |████████████████████████████████| 31.2MB 139kB/s \n",
            "\u001b[?25hCollecting sympy>=1.2\n",
            "\u001b[?25l  Downloading https://files.pythonhosted.org/packages/a4/ea/590e1f2c73a1b8f878a1398b0edbf261d660439a9f851accb39db73d8e2f/sympy-1.6-py3-none-any.whl (5.8MB)\n",
            "\u001b[K     |████████████████████████████████| 5.8MB 40.6MB/s \n",
            "\u001b[?25hCollecting toposort\n",
            "  Downloading https://files.pythonhosted.org/packages/e9/8a/321cd8ea5f4a22a06e3ba30ef31ec33bea11a3443eeb1d89807640ee6ed4/toposort-1.5-py2.py3-none-any.whl\n",
            "Requirement already satisfied: six in /usr/local/lib/python3.6/dist-packages (from symfit) (1.12.0)\n",
            "Requirement already satisfied: mpmath>=0.19 in /usr/local/lib/python3.6/dist-packages (from sympy>=1.2->symfit) (1.1.0)\n",
            "Building wheels for collected packages: symfit\n",
            "  Building wheel for symfit (setup.py) ... \u001b[?25l\u001b[?25hdone\n",
            "  Created wheel for symfit: filename=symfit-0.5.2-py2.py3-none-any.whl size=75771 sha256=187f5fc682e881c59a50447fe6a685718accd0433457fe48644c5f2c3df7d9fc\n",
            "  Stored in directory: /root/.cache/pip/wheels/3d/1c/92/8956c5389dc62228ee5f1d075b8f4ca8edf54b98c006b4e075\n",
            "Successfully built symfit\n",
            "\u001b[31mERROR: umap-learn 0.4.3 has requirement scipy>=1.3.1, but you'll have scipy 1.1.0 which is incompatible.\u001b[0m\n",
            "\u001b[31mERROR: tensorflow 2.2.0 has requirement scipy==1.4.1; python_version >= \"3\", but you'll have scipy 1.1.0 which is incompatible.\u001b[0m\n",
            "\u001b[31mERROR: plotnine 0.6.0 has requirement scipy>=1.2.0, but you'll have scipy 1.1.0 which is incompatible.\u001b[0m\n",
            "\u001b[31mERROR: albumentations 0.1.12 has requirement imgaug<0.2.7,>=0.2.5, but you'll have imgaug 0.2.9 which is incompatible.\u001b[0m\n",
            "Installing collected packages: scipy, sympy, toposort, symfit\n",
            "  Found existing installation: scipy 1.4.1\n",
            "    Uninstalling scipy-1.4.1:\n",
            "      Successfully uninstalled scipy-1.4.1\n",
            "  Found existing installation: sympy 1.1.1\n",
            "    Uninstalling sympy-1.1.1:\n",
            "      Successfully uninstalled sympy-1.1.1\n",
            "Successfully installed scipy-1.1.0 symfit-0.5.2 sympy-1.6 toposort-1.5\n",
            "Name: scipy\n",
            "Version: 1.1.0\n",
            "Summary: SciPy: Scientific Library for Python\n",
            "Home-page: https://www.scipy.org\n",
            "Author: None\n",
            "Author-email: None\n",
            "License: BSD\n",
            "Location: /usr/local/lib/python3.6/dist-packages\n",
            "Requires: numpy\n",
            "Required-by: yellowbrick, xgboost, umap-learn, Theano, tensorflow, tensorflow-privacy, symfit, statsmodels, sklearn-pandas, seaborn, scs, scikit-learn, scikit-image, resampy, pymc3, plotnine, osqp, mlxtend, missingno, matplotlib-venn, lucid, lightgbm, librosa, Keras, jaxlib, imgaug, imbalanced-learn, hyperopt, gym, gensim, fastai, fancyimpute, fa2, ecos, cvxpy, albumentations\n"
          ],
          "name": "stdout"
        }
      ]
    },
    {
      "cell_type": "markdown",
      "metadata": {
        "id": "U4-zaS1XJAHT",
        "colab_type": "text"
      },
      "source": [
        "###Matrix exponential model attempt\n",
        "If symfit can handle the matrix exponential symbolically we maybe have a quick route to fitting"
      ]
    },
    {
      "cell_type": "code",
      "metadata": {
        "id": "0pdfksHTpAJY",
        "colab_type": "code",
        "outputId": "6987716a-ff5f-41a8-fa82-ce9dc5d64b29",
        "colab": {
          "base_uri": "https://localhost:8080/",
          "height": 348
        }
      },
      "source": [
        "#Rewrite in the form of a Symfit \"Model\" for fitting\n",
        "\n",
        "from symfit import parameters, variables, symbols, Matrix, Variable, Parameter\n",
        "from symfit import exp\n",
        "from symfit import CallableModel\n",
        "\n",
        "kon, koff, R1P, R1PL = parameters('k_on, k_off, R_1P, R_1PL')\n",
        "#A = MatrixSymbol('A',2,2)\n",
        "A = Matrix([[kon + R1P , -1*koff],[-1*kon, koff + R1PL]])\n",
        "IPzero, IPLzero = parameters('I_P0, I_PL0')\n",
        "#yzero = MatrixSymbol('y_0',2,2)\n",
        "yzero = Matrix([[IPzero, 0],[0, IPLzero]])\n",
        "IP, IPL, IP_PL, IPL_P = variables('I_P, I_PL, I_PPL, I_PLP')\n",
        "#y = MatrixSymbol('y',2,2)\n",
        "#y = Matrix([[IP, IPL_P],[IP_PL, IPL]])\n",
        "y = Variable('y')\n",
        "tmix = Variable('T_mix')\n",
        "model = CallableModel({y: exp(-1*tmix*A)*yzero})\n"
      ],
      "execution_count": 0,
      "outputs": [
        {
          "output_type": "error",
          "ename": "TypeError",
          "evalue": "ignored",
          "traceback": [
            "\u001b[0;31m---------------------------------------------------------------------------\u001b[0m",
            "\u001b[0;31mTypeError\u001b[0m                                 Traceback (most recent call last)",
            "\u001b[0;32m<ipython-input-9-b6acdd54619e>\u001b[0m in \u001b[0;36m<module>\u001b[0;34m()\u001b[0m\n\u001b[1;32m     16\u001b[0m \u001b[0my\u001b[0m \u001b[0;34m=\u001b[0m \u001b[0mVariable\u001b[0m\u001b[0;34m(\u001b[0m\u001b[0;34m'y'\u001b[0m\u001b[0;34m)\u001b[0m\u001b[0;34m\u001b[0m\u001b[0;34m\u001b[0m\u001b[0m\n\u001b[1;32m     17\u001b[0m \u001b[0mtmix\u001b[0m \u001b[0;34m=\u001b[0m \u001b[0mVariable\u001b[0m\u001b[0;34m(\u001b[0m\u001b[0;34m'T_mix'\u001b[0m\u001b[0;34m)\u001b[0m\u001b[0;34m\u001b[0m\u001b[0;34m\u001b[0m\u001b[0m\n\u001b[0;32m---> 18\u001b[0;31m \u001b[0mmodel\u001b[0m \u001b[0;34m=\u001b[0m \u001b[0mCallableModel\u001b[0m\u001b[0;34m(\u001b[0m\u001b[0;34m{\u001b[0m\u001b[0my\u001b[0m\u001b[0;34m:\u001b[0m \u001b[0mexp\u001b[0m\u001b[0;34m(\u001b[0m\u001b[0;34m-\u001b[0m\u001b[0;36m1\u001b[0m\u001b[0;34m*\u001b[0m\u001b[0mtmix\u001b[0m\u001b[0;34m*\u001b[0m\u001b[0mA\u001b[0m\u001b[0;34m)\u001b[0m\u001b[0;34m*\u001b[0m\u001b[0myzero\u001b[0m\u001b[0;34m}\u001b[0m\u001b[0;34m)\u001b[0m\u001b[0;34m\u001b[0m\u001b[0;34m\u001b[0m\u001b[0m\n\u001b[0m",
            "\u001b[0;32m/usr/local/lib/python3.6/dist-packages/sympy/core/cache.py\u001b[0m in \u001b[0;36mwrapper\u001b[0;34m(*args, **kwargs)\u001b[0m\n\u001b[1;32m     94\u001b[0m                     \u001b[0mretval\u001b[0m \u001b[0;34m=\u001b[0m \u001b[0mcfunc\u001b[0m\u001b[0;34m(\u001b[0m\u001b[0;34m*\u001b[0m\u001b[0margs\u001b[0m\u001b[0;34m,\u001b[0m \u001b[0;34m**\u001b[0m\u001b[0mkwargs\u001b[0m\u001b[0;34m)\u001b[0m\u001b[0;34m\u001b[0m\u001b[0;34m\u001b[0m\u001b[0m\n\u001b[1;32m     95\u001b[0m                 \u001b[0;32mexcept\u001b[0m \u001b[0mTypeError\u001b[0m\u001b[0;34m:\u001b[0m\u001b[0;34m\u001b[0m\u001b[0;34m\u001b[0m\u001b[0m\n\u001b[0;32m---> 96\u001b[0;31m                     \u001b[0mretval\u001b[0m \u001b[0;34m=\u001b[0m \u001b[0mfunc\u001b[0m\u001b[0;34m(\u001b[0m\u001b[0;34m*\u001b[0m\u001b[0margs\u001b[0m\u001b[0;34m,\u001b[0m \u001b[0;34m**\u001b[0m\u001b[0mkwargs\u001b[0m\u001b[0;34m)\u001b[0m\u001b[0;34m\u001b[0m\u001b[0;34m\u001b[0m\u001b[0m\n\u001b[0m\u001b[1;32m     97\u001b[0m                 \u001b[0;32mreturn\u001b[0m \u001b[0mretval\u001b[0m\u001b[0;34m\u001b[0m\u001b[0;34m\u001b[0m\u001b[0m\n\u001b[1;32m     98\u001b[0m \u001b[0;34m\u001b[0m\u001b[0m\n",
            "\u001b[0;32m/usr/local/lib/python3.6/dist-packages/sympy/core/function.py\u001b[0m in \u001b[0;36m__new__\u001b[0;34m(cls, *args, **options)\u001b[0m\n\u001b[1;32m    463\u001b[0m \u001b[0;34m\u001b[0m\u001b[0m\n\u001b[1;32m    464\u001b[0m         \u001b[0mevaluate\u001b[0m \u001b[0;34m=\u001b[0m \u001b[0moptions\u001b[0m\u001b[0;34m.\u001b[0m\u001b[0mget\u001b[0m\u001b[0;34m(\u001b[0m\u001b[0;34m'evaluate'\u001b[0m\u001b[0;34m,\u001b[0m \u001b[0mglobal_parameters\u001b[0m\u001b[0;34m.\u001b[0m\u001b[0mevaluate\u001b[0m\u001b[0;34m)\u001b[0m\u001b[0;34m\u001b[0m\u001b[0;34m\u001b[0m\u001b[0m\n\u001b[0;32m--> 465\u001b[0;31m         \u001b[0mresult\u001b[0m \u001b[0;34m=\u001b[0m \u001b[0msuper\u001b[0m\u001b[0;34m(\u001b[0m\u001b[0;34m)\u001b[0m\u001b[0;34m.\u001b[0m\u001b[0m__new__\u001b[0m\u001b[0;34m(\u001b[0m\u001b[0mcls\u001b[0m\u001b[0;34m,\u001b[0m \u001b[0;34m*\u001b[0m\u001b[0margs\u001b[0m\u001b[0;34m,\u001b[0m \u001b[0;34m**\u001b[0m\u001b[0moptions\u001b[0m\u001b[0;34m)\u001b[0m\u001b[0;34m\u001b[0m\u001b[0;34m\u001b[0m\u001b[0m\n\u001b[0m\u001b[1;32m    466\u001b[0m         \u001b[0;32mif\u001b[0m \u001b[0mevaluate\u001b[0m \u001b[0;32mand\u001b[0m \u001b[0misinstance\u001b[0m\u001b[0;34m(\u001b[0m\u001b[0mresult\u001b[0m\u001b[0;34m,\u001b[0m \u001b[0mcls\u001b[0m\u001b[0;34m)\u001b[0m \u001b[0;32mand\u001b[0m \u001b[0mresult\u001b[0m\u001b[0;34m.\u001b[0m\u001b[0margs\u001b[0m\u001b[0;34m:\u001b[0m\u001b[0;34m\u001b[0m\u001b[0;34m\u001b[0m\u001b[0m\n\u001b[1;32m    467\u001b[0m             \u001b[0mpr2\u001b[0m \u001b[0;34m=\u001b[0m \u001b[0mmin\u001b[0m\u001b[0;34m(\u001b[0m\u001b[0mcls\u001b[0m\u001b[0;34m.\u001b[0m\u001b[0m_should_evalf\u001b[0m\u001b[0;34m(\u001b[0m\u001b[0ma\u001b[0m\u001b[0;34m)\u001b[0m \u001b[0;32mfor\u001b[0m \u001b[0ma\u001b[0m \u001b[0;32min\u001b[0m \u001b[0mresult\u001b[0m\u001b[0;34m.\u001b[0m\u001b[0margs\u001b[0m\u001b[0;34m)\u001b[0m\u001b[0;34m\u001b[0m\u001b[0;34m\u001b[0m\u001b[0m\n",
            "\u001b[0;32m/usr/local/lib/python3.6/dist-packages/sympy/core/cache.py\u001b[0m in \u001b[0;36mwrapper\u001b[0;34m(*args, **kwargs)\u001b[0m\n\u001b[1;32m     94\u001b[0m                     \u001b[0mretval\u001b[0m \u001b[0;34m=\u001b[0m \u001b[0mcfunc\u001b[0m\u001b[0;34m(\u001b[0m\u001b[0;34m*\u001b[0m\u001b[0margs\u001b[0m\u001b[0;34m,\u001b[0m \u001b[0;34m**\u001b[0m\u001b[0mkwargs\u001b[0m\u001b[0;34m)\u001b[0m\u001b[0;34m\u001b[0m\u001b[0;34m\u001b[0m\u001b[0m\n\u001b[1;32m     95\u001b[0m                 \u001b[0;32mexcept\u001b[0m \u001b[0mTypeError\u001b[0m\u001b[0;34m:\u001b[0m\u001b[0;34m\u001b[0m\u001b[0;34m\u001b[0m\u001b[0m\n\u001b[0;32m---> 96\u001b[0;31m                     \u001b[0mretval\u001b[0m \u001b[0;34m=\u001b[0m \u001b[0mfunc\u001b[0m\u001b[0;34m(\u001b[0m\u001b[0;34m*\u001b[0m\u001b[0margs\u001b[0m\u001b[0;34m,\u001b[0m \u001b[0;34m**\u001b[0m\u001b[0mkwargs\u001b[0m\u001b[0;34m)\u001b[0m\u001b[0;34m\u001b[0m\u001b[0;34m\u001b[0m\u001b[0m\n\u001b[0m\u001b[1;32m     97\u001b[0m                 \u001b[0;32mreturn\u001b[0m \u001b[0mretval\u001b[0m\u001b[0;34m\u001b[0m\u001b[0;34m\u001b[0m\u001b[0m\n\u001b[1;32m     98\u001b[0m \u001b[0;34m\u001b[0m\u001b[0m\n",
            "\u001b[0;32m/usr/local/lib/python3.6/dist-packages/sympy/core/function.py\u001b[0m in \u001b[0;36m__new__\u001b[0;34m(cls, *args, **options)\u001b[0m\n\u001b[1;32m    278\u001b[0m \u001b[0;34m\u001b[0m\u001b[0m\n\u001b[1;32m    279\u001b[0m         \u001b[0;32mif\u001b[0m \u001b[0mevaluate\u001b[0m\u001b[0;34m:\u001b[0m\u001b[0;34m\u001b[0m\u001b[0;34m\u001b[0m\u001b[0m\n\u001b[0;32m--> 280\u001b[0;31m             \u001b[0mevaluated\u001b[0m \u001b[0;34m=\u001b[0m \u001b[0mcls\u001b[0m\u001b[0;34m.\u001b[0m\u001b[0meval\u001b[0m\u001b[0;34m(\u001b[0m\u001b[0;34m*\u001b[0m\u001b[0margs\u001b[0m\u001b[0;34m)\u001b[0m\u001b[0;34m\u001b[0m\u001b[0;34m\u001b[0m\u001b[0m\n\u001b[0m\u001b[1;32m    281\u001b[0m             \u001b[0;32mif\u001b[0m \u001b[0mevaluated\u001b[0m \u001b[0;32mis\u001b[0m \u001b[0;32mnot\u001b[0m \u001b[0;32mNone\u001b[0m\u001b[0;34m:\u001b[0m\u001b[0;34m\u001b[0m\u001b[0;34m\u001b[0m\u001b[0m\n\u001b[1;32m    282\u001b[0m                 \u001b[0;32mreturn\u001b[0m \u001b[0mevaluated\u001b[0m\u001b[0;34m\u001b[0m\u001b[0;34m\u001b[0m\u001b[0m\n",
            "\u001b[0;32m/usr/local/lib/python3.6/dist-packages/sympy/functions/elementary/exponential.py\u001b[0m in \u001b[0;36meval\u001b[0;34m(cls, arg)\u001b[0m\n\u001b[1;32m    321\u001b[0m \u001b[0;34m\u001b[0m\u001b[0m\n\u001b[1;32m    322\u001b[0m         \u001b[0;32melif\u001b[0m \u001b[0misinstance\u001b[0m\u001b[0;34m(\u001b[0m\u001b[0marg\u001b[0m\u001b[0;34m,\u001b[0m \u001b[0mMatrixBase\u001b[0m\u001b[0;34m)\u001b[0m\u001b[0;34m:\u001b[0m\u001b[0;34m\u001b[0m\u001b[0;34m\u001b[0m\u001b[0m\n\u001b[0;32m--> 323\u001b[0;31m             \u001b[0;32mreturn\u001b[0m \u001b[0marg\u001b[0m\u001b[0;34m.\u001b[0m\u001b[0mexp\u001b[0m\u001b[0;34m(\u001b[0m\u001b[0;34m)\u001b[0m\u001b[0;34m\u001b[0m\u001b[0;34m\u001b[0m\u001b[0m\n\u001b[0m\u001b[1;32m    324\u001b[0m \u001b[0;34m\u001b[0m\u001b[0m\n\u001b[1;32m    325\u001b[0m         \u001b[0;32mif\u001b[0m \u001b[0marg\u001b[0m\u001b[0;34m.\u001b[0m\u001b[0mis_zero\u001b[0m\u001b[0;34m:\u001b[0m\u001b[0;34m\u001b[0m\u001b[0;34m\u001b[0m\u001b[0m\n",
            "\u001b[0;32m/usr/local/lib/python3.6/dist-packages/sympy/matrices/matrices.py\u001b[0m in \u001b[0;36mexp\u001b[0;34m(self)\u001b[0m\n\u001b[1;32m   1626\u001b[0m                 \"Exponentiation is implemented only for matrices for which the Jordan normal form can be computed\")\n\u001b[1;32m   1627\u001b[0m \u001b[0;34m\u001b[0m\u001b[0m\n\u001b[0;32m-> 1628\u001b[0;31m         \u001b[0mblocks\u001b[0m \u001b[0;34m=\u001b[0m \u001b[0;34m[\u001b[0m\u001b[0mcell\u001b[0m\u001b[0;34m.\u001b[0m\u001b[0m_eval_matrix_exp_jblock\u001b[0m\u001b[0;34m(\u001b[0m\u001b[0;34m)\u001b[0m \u001b[0;32mfor\u001b[0m \u001b[0mcell\u001b[0m \u001b[0;32min\u001b[0m \u001b[0mcells\u001b[0m\u001b[0;34m]\u001b[0m\u001b[0;34m\u001b[0m\u001b[0;34m\u001b[0m\u001b[0m\n\u001b[0m\u001b[1;32m   1629\u001b[0m         \u001b[0;32mfrom\u001b[0m \u001b[0msympy\u001b[0m\u001b[0;34m.\u001b[0m\u001b[0mmatrices\u001b[0m \u001b[0;32mimport\u001b[0m \u001b[0mdiag\u001b[0m\u001b[0;34m\u001b[0m\u001b[0;34m\u001b[0m\u001b[0m\n\u001b[1;32m   1630\u001b[0m         \u001b[0;32mfrom\u001b[0m \u001b[0msympy\u001b[0m \u001b[0;32mimport\u001b[0m \u001b[0mre\u001b[0m\u001b[0;34m\u001b[0m\u001b[0;34m\u001b[0m\u001b[0m\n",
            "\u001b[0;32m/usr/local/lib/python3.6/dist-packages/sympy/matrices/matrices.py\u001b[0m in \u001b[0;36m<listcomp>\u001b[0;34m(.0)\u001b[0m\n\u001b[1;32m   1626\u001b[0m                 \"Exponentiation is implemented only for matrices for which the Jordan normal form can be computed\")\n\u001b[1;32m   1627\u001b[0m \u001b[0;34m\u001b[0m\u001b[0m\n\u001b[0;32m-> 1628\u001b[0;31m         \u001b[0mblocks\u001b[0m \u001b[0;34m=\u001b[0m \u001b[0;34m[\u001b[0m\u001b[0mcell\u001b[0m\u001b[0;34m.\u001b[0m\u001b[0m_eval_matrix_exp_jblock\u001b[0m\u001b[0;34m(\u001b[0m\u001b[0;34m)\u001b[0m \u001b[0;32mfor\u001b[0m \u001b[0mcell\u001b[0m \u001b[0;32min\u001b[0m \u001b[0mcells\u001b[0m\u001b[0;34m]\u001b[0m\u001b[0;34m\u001b[0m\u001b[0;34m\u001b[0m\u001b[0m\n\u001b[0m\u001b[1;32m   1629\u001b[0m         \u001b[0;32mfrom\u001b[0m \u001b[0msympy\u001b[0m\u001b[0;34m.\u001b[0m\u001b[0mmatrices\u001b[0m \u001b[0;32mimport\u001b[0m \u001b[0mdiag\u001b[0m\u001b[0;34m\u001b[0m\u001b[0;34m\u001b[0m\u001b[0m\n\u001b[1;32m   1630\u001b[0m         \u001b[0;32mfrom\u001b[0m \u001b[0msympy\u001b[0m \u001b[0;32mimport\u001b[0m \u001b[0mre\u001b[0m\u001b[0;34m\u001b[0m\u001b[0;34m\u001b[0m\u001b[0m\n",
            "\u001b[0;32m/usr/local/lib/python3.6/dist-packages/sympy/matrices/matrices.py\u001b[0m in \u001b[0;36m_eval_matrix_exp_jblock\u001b[0;34m(self)\u001b[0m\n\u001b[1;32m   1507\u001b[0m \u001b[0;34m\u001b[0m\u001b[0m\n\u001b[1;32m   1508\u001b[0m         \u001b[0;32mfrom\u001b[0m \u001b[0;34m.\u001b[0m\u001b[0msparsetools\u001b[0m \u001b[0;32mimport\u001b[0m \u001b[0mbanded\u001b[0m\u001b[0;34m\u001b[0m\u001b[0;34m\u001b[0m\u001b[0m\n\u001b[0;32m-> 1509\u001b[0;31m         \u001b[0;32mreturn\u001b[0m \u001b[0mself\u001b[0m\u001b[0;34m.\u001b[0m\u001b[0m__class__\u001b[0m\u001b[0;34m(\u001b[0m\u001b[0mbanded\u001b[0m\u001b[0;34m(\u001b[0m\u001b[0msize\u001b[0m\u001b[0;34m,\u001b[0m \u001b[0mbands\u001b[0m\u001b[0;34m)\u001b[0m\u001b[0;34m)\u001b[0m\u001b[0;34m\u001b[0m\u001b[0;34m\u001b[0m\u001b[0m\n\u001b[0m\u001b[1;32m   1510\u001b[0m \u001b[0;34m\u001b[0m\u001b[0m\n\u001b[1;32m   1511\u001b[0m \u001b[0;34m\u001b[0m\u001b[0m\n",
            "\u001b[0;32m/usr/local/lib/python3.6/dist-packages/sympy/matrices/sparsetools.py\u001b[0m in \u001b[0;36mbanded\u001b[0;34m(*args, **kwargs)\u001b[0m\n\u001b[1;32m    296\u001b[0m             \u001b[0mi\u001b[0m \u001b[0;34m=\u001b[0m \u001b[0;36m0\u001b[0m\u001b[0;34m\u001b[0m\u001b[0;34m\u001b[0m\u001b[0m\n\u001b[1;32m    297\u001b[0m             \u001b[0;32mwhile\u001b[0m \u001b[0mr\u001b[0m \u001b[0;34m+\u001b[0m \u001b[0mi\u001b[0m \u001b[0;34m<\u001b[0m \u001b[0mrows\u001b[0m \u001b[0;32mand\u001b[0m \u001b[0mc\u001b[0m \u001b[0;34m+\u001b[0m \u001b[0mi\u001b[0m \u001b[0;34m<\u001b[0m \u001b[0mcols\u001b[0m\u001b[0;34m:\u001b[0m\u001b[0;34m\u001b[0m\u001b[0;34m\u001b[0m\u001b[0m\n\u001b[0;32m--> 298\u001b[0;31m                 \u001b[0mupdate\u001b[0m\u001b[0;34m(\u001b[0m\u001b[0mr\u001b[0m \u001b[0;34m+\u001b[0m \u001b[0mi\u001b[0m\u001b[0;34m,\u001b[0m \u001b[0mc\u001b[0m \u001b[0;34m+\u001b[0m \u001b[0mi\u001b[0m\u001b[0;34m,\u001b[0m \u001b[0mv\u001b[0m\u001b[0;34m(\u001b[0m\u001b[0mi\u001b[0m\u001b[0;34m)\u001b[0m\u001b[0;34m)\u001b[0m\u001b[0;34m\u001b[0m\u001b[0;34m\u001b[0m\u001b[0m\n\u001b[0m\u001b[1;32m    299\u001b[0m                 \u001b[0mi\u001b[0m \u001b[0;34m+=\u001b[0m \u001b[0;36m1\u001b[0m\u001b[0;34m\u001b[0m\u001b[0;34m\u001b[0m\u001b[0m\n\u001b[1;32m    300\u001b[0m     \u001b[0;32mreturn\u001b[0m \u001b[0mSparseMatrix\u001b[0m\u001b[0;34m(\u001b[0m\u001b[0mrows\u001b[0m\u001b[0;34m,\u001b[0m \u001b[0mcols\u001b[0m\u001b[0;34m,\u001b[0m \u001b[0msmat\u001b[0m\u001b[0;34m)\u001b[0m\u001b[0;34m\u001b[0m\u001b[0;34m\u001b[0m\u001b[0m\n",
            "\u001b[0;32m/usr/local/lib/python3.6/dist-packages/symfit/core/operators.py\u001b[0m in \u001b[0;36mcall\u001b[0;34m(self, *values, **named_values)\u001b[0m\n\u001b[1;32m     88\u001b[0m \u001b[0;34m\u001b[0m\u001b[0m\n\u001b[1;32m     89\u001b[0m     \u001b[0msignature\u001b[0m \u001b[0;34m=\u001b[0m \u001b[0minspect_sig\u001b[0m\u001b[0;34m.\u001b[0m\u001b[0mSignature\u001b[0m\u001b[0;34m(\u001b[0m\u001b[0mparameters\u001b[0m\u001b[0;34m=\u001b[0m\u001b[0mparameters\u001b[0m\u001b[0;34m)\u001b[0m\u001b[0;34m\u001b[0m\u001b[0;34m\u001b[0m\u001b[0m\n\u001b[0;32m---> 90\u001b[0;31m     \u001b[0mbound_arguments\u001b[0m \u001b[0;34m=\u001b[0m \u001b[0msignature\u001b[0m\u001b[0;34m.\u001b[0m\u001b[0mbind\u001b[0m\u001b[0;34m(\u001b[0m\u001b[0;34m*\u001b[0m\u001b[0mvalues\u001b[0m\u001b[0;34m,\u001b[0m \u001b[0;34m**\u001b[0m\u001b[0mrelevant_named_values\u001b[0m\u001b[0;34m)\u001b[0m\u001b[0;34m\u001b[0m\u001b[0;34m\u001b[0m\u001b[0m\n\u001b[0m\u001b[1;32m     91\u001b[0m \u001b[0;34m\u001b[0m\u001b[0m\n\u001b[1;32m     92\u001b[0m     \u001b[0;32mreturn\u001b[0m \u001b[0mfunc\u001b[0m\u001b[0;34m(\u001b[0m\u001b[0;34m**\u001b[0m\u001b[0mbound_arguments\u001b[0m\u001b[0;34m.\u001b[0m\u001b[0marguments\u001b[0m\u001b[0;34m)\u001b[0m\u001b[0;34m\u001b[0m\u001b[0;34m\u001b[0m\u001b[0m\n",
            "\u001b[0;32m/usr/lib/python3.6/inspect.py\u001b[0m in \u001b[0;36mbind\u001b[0;34m(*args, **kwargs)\u001b[0m\n\u001b[1;32m   2995\u001b[0m         \u001b[0;32mif\u001b[0m \u001b[0mthe\u001b[0m \u001b[0mpassed\u001b[0m \u001b[0marguments\u001b[0m \u001b[0mcan\u001b[0m \u001b[0;32mnot\u001b[0m \u001b[0mbe\u001b[0m \u001b[0mbound\u001b[0m\u001b[0;34m.\u001b[0m\u001b[0;34m\u001b[0m\u001b[0;34m\u001b[0m\u001b[0m\n\u001b[1;32m   2996\u001b[0m         \"\"\"\n\u001b[0;32m-> 2997\u001b[0;31m         \u001b[0;32mreturn\u001b[0m \u001b[0margs\u001b[0m\u001b[0;34m[\u001b[0m\u001b[0;36m0\u001b[0m\u001b[0;34m]\u001b[0m\u001b[0;34m.\u001b[0m\u001b[0m_bind\u001b[0m\u001b[0;34m(\u001b[0m\u001b[0margs\u001b[0m\u001b[0;34m[\u001b[0m\u001b[0;36m1\u001b[0m\u001b[0;34m:\u001b[0m\u001b[0;34m]\u001b[0m\u001b[0;34m,\u001b[0m \u001b[0mkwargs\u001b[0m\u001b[0;34m)\u001b[0m\u001b[0;34m\u001b[0m\u001b[0;34m\u001b[0m\u001b[0m\n\u001b[0m\u001b[1;32m   2998\u001b[0m \u001b[0;34m\u001b[0m\u001b[0m\n\u001b[1;32m   2999\u001b[0m     \u001b[0;32mdef\u001b[0m \u001b[0mbind_partial\u001b[0m\u001b[0;34m(\u001b[0m\u001b[0;34m*\u001b[0m\u001b[0margs\u001b[0m\u001b[0;34m,\u001b[0m \u001b[0;34m**\u001b[0m\u001b[0mkwargs\u001b[0m\u001b[0;34m)\u001b[0m\u001b[0;34m:\u001b[0m\u001b[0;34m\u001b[0m\u001b[0;34m\u001b[0m\u001b[0m\n",
            "\u001b[0;32m/usr/lib/python3.6/inspect.py\u001b[0m in \u001b[0;36m_bind\u001b[0;34m(self, args, kwargs, partial)\u001b[0m\n\u001b[1;32m   2910\u001b[0m                             \u001b[0mmsg\u001b[0m \u001b[0;34m=\u001b[0m \u001b[0;34m'missing a required argument: {arg!r}'\u001b[0m\u001b[0;34m\u001b[0m\u001b[0;34m\u001b[0m\u001b[0m\n\u001b[1;32m   2911\u001b[0m                             \u001b[0mmsg\u001b[0m \u001b[0;34m=\u001b[0m \u001b[0mmsg\u001b[0m\u001b[0;34m.\u001b[0m\u001b[0mformat\u001b[0m\u001b[0;34m(\u001b[0m\u001b[0marg\u001b[0m\u001b[0;34m=\u001b[0m\u001b[0mparam\u001b[0m\u001b[0;34m.\u001b[0m\u001b[0mname\u001b[0m\u001b[0;34m)\u001b[0m\u001b[0;34m\u001b[0m\u001b[0;34m\u001b[0m\u001b[0m\n\u001b[0;32m-> 2912\u001b[0;31m                             \u001b[0;32mraise\u001b[0m \u001b[0mTypeError\u001b[0m\u001b[0;34m(\u001b[0m\u001b[0mmsg\u001b[0m\u001b[0;34m)\u001b[0m \u001b[0;32mfrom\u001b[0m \u001b[0;32mNone\u001b[0m\u001b[0;34m\u001b[0m\u001b[0;34m\u001b[0m\u001b[0m\n\u001b[0m\u001b[1;32m   2913\u001b[0m             \u001b[0;32melse\u001b[0m\u001b[0;34m:\u001b[0m\u001b[0;34m\u001b[0m\u001b[0;34m\u001b[0m\u001b[0m\n\u001b[1;32m   2914\u001b[0m                 \u001b[0;31m# We have a positional argument to process\u001b[0m\u001b[0;34m\u001b[0m\u001b[0;34m\u001b[0m\u001b[0;34m\u001b[0m\u001b[0m\n",
            "\u001b[0;31mTypeError\u001b[0m: missing a required argument: 'R_1P'"
          ]
        }
      ]
    },
    {
      "cell_type": "markdown",
      "metadata": {
        "id": "kt0j-lTKNA9X",
        "colab_type": "text"
      },
      "source": [
        "with y predefined as a Matrix() this fails with \"TypeError: unhashable type: 'MutableDenseMatrix'\". The commented out symbolic approach didn't seem work either.\n",
        "\n",
        "So it would seem sensible to try the explicit expanded solution to the matrix exponential.\n",
        "\n",
        "###Algebraic expansion (simple) model\n",
        "\n",
        "First we'll try the simplified expansion (R1 is the same for both states) from equation 23 of the Palmer ref."
      ]
    },
    {
      "cell_type": "code",
      "metadata": {
        "id": "tf3Xy48w7fVf",
        "colab_type": "code",
        "outputId": "171cccc3-ebac-4bca-d441-45e2cd0855e9",
        "colab": {
          "base_uri": "https://localhost:8080/",
          "height": 86
        }
      },
      "source": [
        "#Back to the expanded solution to the matrix exponential as a symfit multicomponent model\n",
        "\n",
        "from symfit import parameters, variables, Variable, Parameter\n",
        "from symfit import exp\n",
        "from symfit import Model\n",
        "\n",
        "#global parameters\n",
        "kon, koff = parameters('k_on, k_off')\n",
        "#residue specific parameters\n",
        "R1P, R1PL = parameters('R_1P, R_1PL')\n",
        "IPzero, IPLzero = parameters('I_P0, I_PL0')\n",
        "#residue specific time dependent variables\n",
        "IP, IPL, IP_PL, IPL_P = variables('I_P, I_PL, I_PPL, I_PLP')\n",
        "#time values themselves\n",
        "tmix = Variable('T_mix')\n",
        "\n",
        "#Palmer simple model (eqn 23)\n",
        "pa = koff/(kon+koff)\n",
        "pb = kon/(kon+koff)\n",
        "kex = kon+koff\n",
        "\n",
        "aAA = (pa + pb * exp(-1*(kex)*tmix)) * exp(-1* R1P * tmix)\n",
        "aBB = (pb + pa * exp(-1*(kex)*tmix)) * exp(-1* R1P * tmix)\n",
        "aAB = pa * (1 - exp(-1*(kex)*tmix)) * exp(-1* R1P * tmix)\n",
        "aBA = pb * (1 - exp(-1*(kex)*tmix)) * exp(-1* R1P * tmix)\n",
        "\n",
        "model_dict = {\n",
        "    IP    : (IPzero  * aAA),\n",
        "    IPL   : (IPLzero  * aBB),\n",
        "    IP_PL : (aAB * IPzero),\n",
        "    IPL_P : (aBA * IPLzero)\n",
        "}\n",
        "\n",
        "model = Model(model_dict)\n",
        "\n",
        "print(model)\n",
        "\n"
      ],
      "execution_count": 0,
      "outputs": [
        {
          "output_type": "stream",
          "text": [
            "[I_P(T_mix; I_P0, R_1P, k_off, k_on) = I_P0*(k_off/(k_off + k_on) + k_on*exp(T_mix*(-k_off - k_on))/(k_off + k_on))*exp(-R_1P*T_mix),\n",
            " I_PL(T_mix; I_PL0, R_1P, k_off, k_on) = I_PL0*(k_off*exp(T_mix*(-k_off - k_on))/(k_off + k_on) + k_on/(k_off + k_on))*exp(-R_1P*T_mix),\n",
            " I_PLP(T_mix; I_PL0, R_1P, k_off, k_on) = I_PL0*k_on*(1 - exp(T_mix*(-k_off - k_on)))*exp(-R_1P*T_mix)/(k_off + k_on),\n",
            " I_PPL(T_mix; I_P0, R_1P, k_off, k_on) = I_P0*k_off*(1 - exp(T_mix*(-k_off - k_on)))*exp(-R_1P*T_mix)/(k_off + k_on)]\n"
          ],
          "name": "stdout"
        }
      ]
    },
    {
      "cell_type": "markdown",
      "metadata": {
        "id": "oPST8xTvu4ll",
        "colab_type": "text"
      },
      "source": [
        "####Model test"
      ]
    },
    {
      "cell_type": "code",
      "metadata": {
        "id": "FHxLH3as1MSy",
        "colab_type": "code",
        "outputId": "4f1f694c-0837-4738-d522-cbb8ed38a5ae",
        "colab": {
          "base_uri": "https://localhost:8080/",
          "height": 312
        }
      },
      "source": [
        "#make some data\n",
        "\n",
        "kex = 10.0   # s^{-1}\n",
        "kon = 4.0    # M * M^{-1}s^{-1} concentration times diffusion limited on rate\n",
        "koff = kex - kon\n",
        "R1P = 1.0    # s^{-1}\n",
        "R1PL = R1P   # keep things simple for now\n",
        "pa = 0.3     # P in model\n",
        "pb = 1 - pa  # PL in model\n",
        "\n",
        "IPzero = 1 * pa\n",
        "IPLzero = 1 * pb\n",
        "\n",
        "tStart = 0.0\n",
        "tStop = 1.0        # Tmix up to about 1/R1\n",
        "nTimes = 51\n",
        "tval = np.linspace(tStart,tStop,nTimes) # to get a matching time axis for plotting\n",
        "tmix = tval\n",
        "\n",
        "#y = model(T_mix = tmix, R_1P = R1P, R_1PL = R1PL, k_on = kon, k_off = koff, I_P0 = IPzero, I_PL0 = IPLzero)\n",
        "y = model(T_mix = tmix, R_1P = R1P, k_on = kon, k_off = koff, I_P0 = IPzero, I_PL0 = IPLzero)._asdict() # simple model with one R1\n",
        "\n",
        "#print(y[0][:])\n",
        "\n",
        "#plot the results\n",
        "plt.title(\"EXSY intensities simulation\")\n",
        "plt.xlabel('time (s)')\n",
        "plt.ylabel('relative intensity')\n",
        "plt.plot(tval,y[IP], label='P')\n",
        "plt.plot(tval,y[IPL_P], label='PL-P')\n",
        "plt.plot(tval,y[IP_PL], label='P-PL')\n",
        "plt.plot(tval,y[IPL], label='PL')\n",
        "#plt.plot(tval,y[4], label='L1')\n",
        "#plt.plot(tval,y[5], label='L2')\n",
        "plt.legend()"
      ],
      "execution_count": 0,
      "outputs": [
        {
          "output_type": "execute_result",
          "data": {
            "text/plain": [
              "<matplotlib.legend.Legend at 0x7f2ec934cb70>"
            ]
          },
          "metadata": {
            "tags": []
          },
          "execution_count": 18
        },
        {
          "output_type": "display_data",
          "data": {
            "image/png": "[encoded data removed]",
            "text/plain": [
              "<Figure size 432x288 with 1 Axes>"
            ]
          },
          "metadata": {
            "tags": [],
            "needs_background": "light"
          }
        }
      ]
    },
    {
      "cell_type": "markdown",
      "metadata": {
        "id": "JHltlyomqdR4",
        "colab_type": "text"
      },
      "source": [
        "This seems to work, but produces rather different results than the expm_multiply() version above. Perhaps the non-sparsity of the matrix A makes the matrix exponential method too inaccurate?\n",
        "\n",
        "####Simulating data with noise\n"
      ]
    },
    {
      "cell_type": "code",
      "metadata": {
        "id": "NAmGgt5Hr6br",
        "colab_type": "code",
        "outputId": "02f007e1-56fd-4bdb-e4a5-c4a481fd031b",
        "colab": {
          "base_uri": "https://localhost:8080/",
          "height": 312
        }
      },
      "source": [
        "#simulate some data\n",
        "\n",
        "\n",
        "kex = 10.0   # s^{-1}\n",
        "kon = 4.0    # M * M^{-1}s^{-1} concentration times diffusion limited on rate\n",
        "koff = kex - kon\n",
        "R1P = 1.0    # s^{-1}\n",
        "R1PL = R1P   # keep things simple for now\n",
        "pa = 0.3\n",
        "pb = 1 - pa\n",
        "\n",
        "IPzero = 1 * pa\n",
        "IPLzero = 1 * pb\n",
        "\n",
        "tStart = 0.0\n",
        "tStop = 1.0        # Tmix up to about 1/R1\n",
        "nTimes = 11\n",
        "tval = np.linspace(tStart,tStop,nTimes) # to get a matching time axis for plotting\n",
        "tmix = tval\n",
        "\n",
        "y_data = model(T_mix = tmix, R_1P = R1P, k_on = kon, k_off = koff, I_P0 = IPzero, I_PL0 = IPLzero)._asdict() # simple model with one R1\n",
        "\n",
        "sigma_data = 0.01\n",
        "np.random.seed(88)\n",
        "for var in y_data:\n",
        "    y_data[var] += np.random.normal(0, sigma_data, size=len(tmix))\n",
        "\n",
        "#print(y_data)\n",
        "\n",
        "#plot the results\n",
        "plt.title(\"EXSY intensities simulation\")\n",
        "plt.xlabel('time (s)')\n",
        "plt.ylabel('relative intensity')\n",
        "plt.scatter(tval,y_data[IP], label='P')\n",
        "plt.scatter(tval,y_data[IPL_P], label='PL-P')\n",
        "plt.scatter(tval,y_data[IP_PL], label='P-PL')\n",
        "plt.scatter(tval,y_data[IPL], label='PL')\n",
        "plt.legend()\n"
      ],
      "execution_count": 0,
      "outputs": [
        {
          "output_type": "execute_result",
          "data": {
            "text/plain": [
              "<matplotlib.legend.Legend at 0x7f2ec92cb860>"
            ]
          },
          "metadata": {
            "tags": []
          },
          "execution_count": 19
        },
        {
          "output_type": "display_data",
          "data": {
            "image/png": "[encoded data removed]",
            "text/plain": [
              "<Figure size 432x288 with 1 Axes>"
            ]
          },
          "metadata": {
            "tags": [],
            "needs_background": "light"
          }
        }
      ]
    },
    {
      "cell_type": "markdown",
      "metadata": {
        "id": "tPEHkhhsw4Pd",
        "colab_type": "text"
      },
      "source": [
        "####Fitting the data with the model\n",
        "\n",
        "Now fit the simulated data and report the results and show the fit.\n",
        "\n",
        "If the code returns an error make sure you have re-run the previous block to ensure that there are no incorrectly defined variables."
      ]
    },
    {
      "cell_type": "code",
      "metadata": {
        "id": "94nRXxIXw5Yw",
        "colab_type": "code",
        "outputId": "554c2b0e-c2e6-4d82-90e6-3165548379f0",
        "colab": {
          "base_uri": "https://localhost:8080/",
          "height": 543
        }
      },
      "source": [
        "#fit\n",
        "\n",
        "from symfit import Fit\n",
        "\n",
        "#kon.min, kon.max = 0.01, 100\n",
        "#koff.min, koff.max = 0.01, 100\n",
        "#R1P.min, R1P.max = 0.1, 10\n",
        "#IPzero.min, IPzero.max = 0.01, 1.5\n",
        "#IPLzero.min, IPLzero.max = 0.01, 1.5\n",
        "\n",
        "fit = Fit(model, T_mix = tmix, I_P=y_data[IP], I_PLP=y_data[IPL_P], I_PPL=y_data[IP_PL], I_PL=y_data[IPL])\n",
        "fit_result = fit.execute()\n",
        "print(fit_result)\n",
        "\n",
        "taxis = np.linspace(tmix.min(), tmix.max(), 1000)\n",
        "model_fit = model(T_mix=taxis, **fit_result.params)._asdict()\n",
        "for var in y_data:\n",
        "    plt.scatter(tmix, y_data[var], label='[{}]'.format(var.name))\n",
        "    plt.plot(taxis, model_fit[var], label='[{}]'.format(var.name))\n",
        "plt.legend()\n",
        "plt.show()\n"
      ],
      "execution_count": 0,
      "outputs": [
        {
          "output_type": "stream",
          "text": [
            "\n",
            "Parameter Value        Standard Deviation\n",
            "I_P0      3.092612e-01 1.835072e-02\n",
            "I_PL0     6.988738e-01 2.316031e-02\n",
            "R_1P      1.020337e+00 8.562594e-02\n",
            "k_off     6.298139e+00 7.486296e-01\n",
            "k_on      4.182325e+00 5.088191e-01\n",
            "Status message         Optimization terminated successfully.\n",
            "Number of iterations   31\n",
            "Objective              <symfit.core.objectives.LeastSquares object at 0x7f2ec948dc18>\n",
            "Minimizer              <symfit.core.minimizers.BFGS object at 0x7f2ec948d470>\n",
            "\n",
            "Goodness of fit qualifiers:\n",
            "chi_squared            0.003531620696412519\n",
            "objective_value        0.0017658103482062594\n",
            "r_squared              0.9913396991049372\n"
          ],
          "name": "stdout"
        },
        {
          "output_type": "display_data",
          "data": {
            "image/png": "[encoded data removed]",
            "text/plain": [
              "<Figure size 432x288 with 1 Axes>"
            ]
          },
          "metadata": {
            "tags": [],
            "needs_background": "light"
          }
        }
      ]
    },
    {
      "cell_type": "markdown",
      "metadata": {
        "id": "xiHeXgVAdGDT",
        "colab_type": "text"
      },
      "source": [
        "###Multiple site model\n",
        "Now build a multiple site (residue) model to generate multiple mock data varying R1P and the scale factor for IPzero and IPLzero"
      ]
    },
    {
      "cell_type": "code",
      "metadata": {
        "id": "9DC7eroRdaya",
        "colab_type": "code",
        "colab": {
          "base_uri": "https://localhost:8080/",
          "height": 54
        },
        "outputId": "6297c772-7e11-4898-db76-e9332ddf3ad3"
      },
      "source": [
        "from symfit import parameters, variables, Variable, Parameter\n",
        "from symfit import exp\n",
        "from symfit import Model\n",
        "\n",
        "#global parameters\n",
        "kon, koff = parameters('k_on, k_off')\n",
        "\n",
        "#time values themselves\n",
        "tmix = Variable('T_mix')\n",
        "\n",
        "resids = [1,2,3]\n",
        "numResids = len(resids)\n",
        "#create empty strings for creating the residue specific variables and parameters\n",
        "r1ps = ''; r1pls = ''\n",
        "ipzeros = ''; iplzeros = ''\n",
        "ips = ''; ipls = ''; ippls = ''; iplps = ''\n",
        "for i, resid in enumerate(resids):\n",
        "    if i < (numResids-1):\n",
        "        r1ps += 'R1P_{}'.format(resid) + ', '\n",
        "        r1pls += 'R1PL_{}'.format(resid) + ', '\n",
        "        ipzeros += 'IPzero_{}'.format(resid) + ', '\n",
        "        iplzeros += 'IPLzero_{}'.format(resid) + ', '\n",
        "        ips += 'IP_{}'.format(resid) + ', '\n",
        "        ipls += 'IPL_{}'.format(resid) + ', '\n",
        "        ippls += 'IPPL_{}'.format(resid) + ', '\n",
        "        iplps += 'IPLP_{}'.format(resid) + ', '\n",
        "    else:\n",
        "        r1ps += 'R1P_{}'.format(resid)\n",
        "        r1pls += 'R1PL_{}'.format(resid)\n",
        "        ipzeros += 'IPzero_{}'.format(resid)\n",
        "        iplzeros += 'IPLzero_{}'.format(resid)\n",
        "        ips += 'IP_{}'.format(resid)\n",
        "        ipls += 'IPL_{}'.format(resid)\n",
        "        ippls += 'IPPL_{}'.format(resid)\n",
        "        iplps += 'IPLP_{}'.format(resid)\n",
        "\n",
        "#define the residue specific parameters and variables\n",
        "R1Ps = parameters(r1ps)\n",
        "R1PLs = parameters(r1pls)\n",
        "IPzeros = parameters(ipzeros)\n",
        "IPLzeros = parametersCreated using Colaboratory(iplzeros)\n",
        "IPs = variables(ips)\n",
        "IPLs = variables(ipls)\n",
        "IPPLs = variables(ippls)\n",
        "IPLPs = variables(iplps)\n",
        "\n",
        "#fossil from attempt to build the model as a nested dictionary keyed on resid\n",
        "#parsDict = dict(zip(resids,list(zip(R1Ps, R1PLs, IPzeros, IPLzeros, IPs, IPLs, IPPLs, IPLPs))))\n",
        "\n",
        "#Palmer simple model (eqn 23)\n",
        "pa = koff/(kon+koff)\n",
        "pb = kon/(kon+koff)\n",
        "kex = kon+koff\n",
        "\n",
        "multi_model_dict = {}\n",
        "temp_model_dict = {\n",
        "    IP    : (IPzero  * (pa + pb * exp(-1*(kex)*tmix)) * exp(-1* R1P * tmix))\n",
        "        for IP, IPzero, IPL, IPLzero, IPPL, IPLP, R1P in zip(IPs, IPzeros, IPLs, IPLzeros, IPPLs, IPLPs, R1Ps)}\n",
        "multi_model_dict.update(temp_model_dict)\n",
        "temp_model_dict = {\n",
        "    IPL   : (IPLzero  * (pb + pa * exp(-1*(kex)*tmix)) * exp(-1* R1P * tmix))\n",
        "        for IP, IPzero, IPL, IPLzero, IPPL, IPLP, R1P in zip(IPs, IPzeros, IPLs, IPLzeros, IPPLs, IPLPs, R1Ps)}\n",
        "multi_model_dict.update(temp_model_dict)\n",
        "temp_model_dict = {\n",
        "    IPPL : (pa * (1 - exp(-1*(kex)*tmix)) * exp(-1* R1P * tmix) * IPzero)\n",
        "        for IP, IPzero, IPL, IPLzero, IPPL, IPLP, R1P in zip(IPs, IPzeros, IPLs, IPLzeros, IPPLs, IPLPs, R1Ps)}\n",
        "multi_model_dict.update(temp_model_dict)\n",
        "temp_model_dict = {\n",
        "    IPLP : (pb * (1 - exp(-1*(kex)*tmix)) * exp(-1* R1P * tmix) * IPLzero)\n",
        "        for IP, IPzero, IPL, IPLzero, IPPL, IPLP, R1P in zip(IPs, IPzeros, IPLs, IPLzeros, IPPLs, IPLPs, R1Ps)}\n",
        "multi_model_dict.update(temp_model_dict)\n",
        "\n",
        "print(multi_model_dict)\n",
        "\n",
        "model = Model(multi_model_dict)"
      ],
      "execution_count": 46,
      "outputs": [
        {
          "output_type": "stream",
          "text": [
            "{IP_1: IPzero_1*(k_off/(k_off + k_on) + k_on*exp(T_mix*(-k_off - k_on))/(k_off + k_on))*exp(-R1P_1*T_mix), IP_2: IPzero_2*(k_off/(k_off + k_on) + k_on*exp(T_mix*(-k_off - k_on))/(k_off + k_on))*exp(-R1P_2*T_mix), IP_3: IPzero_3*(k_off/(k_off + k_on) + k_on*exp(T_mix*(-k_off - k_on))/(k_off + k_on))*exp(-R1P_3*T_mix), IPL_1: IPLzero_1*(k_off*exp(T_mix*(-k_off - k_on))/(k_off + k_on) + k_on/(k_off + k_on))*exp(-R1P_1*T_mix), IPL_2: IPLzero_2*(k_off*exp(T_mix*(-k_off - k_on))/(k_off + k_on) + k_on/(k_off + k_on))*exp(-R1P_2*T_mix), IPL_3: IPLzero_3*(k_off*exp(T_mix*(-k_off - k_on))/(k_off + k_on) + k_on/(k_off + k_on))*exp(-R1P_3*T_mix), IPPL_1: IPzero_1*k_off*(1 - exp(T_mix*(-k_off - k_on)))*exp(-R1P_1*T_mix)/(k_off + k_on), IPPL_2: IPzero_2*k_off*(1 - exp(T_mix*(-k_off - k_on)))*exp(-R1P_2*T_mix)/(k_off + k_on), IPPL_3: IPzero_3*k_off*(1 - exp(T_mix*(-k_off - k_on)))*exp(-R1P_3*T_mix)/(k_off + k_on), IPLP_1: IPLzero_1*k_on*(1 - exp(T_mix*(-k_off - k_on)))*exp(-R1P_1*T_mix)/(k_off + k_on), IPLP_2: IPLzero_2*k_on*(1 - exp(T_mix*(-k_off - k_on)))*exp(-R1P_2*T_mix)/(k_off + k_on), IPLP_3: IPLzero_3*k_on*(1 - exp(T_mix*(-k_off - k_on)))*exp(-R1P_3*T_mix)/(k_off + k_on)}\n"
          ],
          "name": "stdout"
        }
      ]
    },
    {
      "cell_type": "markdown",
      "metadata": {
        "id": "EKArKZD4wysD",
        "colab_type": "text"
      },
      "source": [
        "####Model test\n",
        "\n",
        "Breakthrough when I learnt to \"splat\" dictionaries to provide a series of argument, value pairs.\n",
        "\n",
        "More challenging to access the results because the keys of the model output (the Parameters IP_resid, etc) are not visible outside the IPs, etc. lists where they were created. The resulting solution (parsDict) is good for retrieving results by residue though.\n",
        "\n",
        "Some better matplotlibbing would be good for handling multiple residues. Probably need some layout code and use of subplots(sharedx, sharedy) and label_outer()."
      ]
    },
    {
      "cell_type": "code",
      "metadata": {
        "id": "JAYmANQL5EIE",
        "colab_type": "code",
        "colab": {}
      },
      "source": [
        "%matplotlib inline\n",
        "import numpy as np\n",
        "import matplotlib.pyplot as plt"
      ],
      "execution_count": 0,
      "outputs": []
    },
    {
      "cell_type": "code",
      "metadata": {
        "id": "hGyUhCWkqW_m",
        "colab_type": "code",
        "colab": {
          "base_uri": "https://localhost:8080/",
          "height": 295
        },
        "outputId": "9fbe90c5-9ee7-4d4b-f362-0653bf0105f5"
      },
      "source": [
        "#make some data\n",
        "\n",
        "#global values\n",
        "kex = 10.0   # s^{-1}\n",
        "kon = 4.0    # M * M^{-1}s^{-1} concentration times diffusion limited on rate\n",
        "koff = kex - kon\n",
        "paIn = 0.3     # P in model\n",
        "pbIn = 1 - paIn  # PL in model\n",
        "\n",
        "#residue specific input\n",
        "R1Ps = {'R1P_1' : 1.2, 'R1P_2' : 1.0, 'R1P_3' : 0.8}   # s^{-1}\n",
        "IPzeros = {'IPzero_1' : 0.5 * paIn, 'IPzero_2' : 1.0 * paIn, 'IPzero_3': 1.5 * paIn}\n",
        "IPLzeros = {'IPLzero_1' : 0.5 * pbIn, 'IPLzero_2' : 1.0 * pbIn, 'IPLzero_3': 1.5 * pbIn}\n",
        "\n",
        "tStart = 0.0\n",
        "tStop = 1.0        # Tmix up to about 1/R1\n",
        "nTimes = 51\n",
        "tval = np.linspace(tStart,tStop,nTimes) # to get a matching time axis for plotting\n",
        "tmix = tval\n",
        "\n",
        "ys = model(T_mix = tmix, k_on = kon, k_off = koff,\n",
        "           **R1Ps,\n",
        "           **IPzeros,\n",
        "           **IPLzeros\n",
        "           )._asdict()\n",
        "\n",
        "#needed because IP_1 etc are symfit Parameters hidden inside IPs etc.\n",
        "#also makes plotting multiple sites easier\n",
        "parsDict = dict(zip(resids,list(zip(IPs, IPLs, IPPLs, IPLPs))))\n",
        "\n",
        "#plot the results\n",
        "for resid, pars in parsDict.items():\n",
        "    plt.subplot(2,2,resid)\n",
        "    plt.title(\"Residue {}\".format(resid))\n",
        "    plt.xlabel('time (s)')\n",
        "    plt.ylabel('relative intensity')\n",
        "    plt.plot(tval,ys[pars[0]], label='P_{}'.format(resid))\n",
        "    plt.plot(tval,ys[pars[3]], label='PL-P_{}'.format(resid))\n",
        "    plt.plot(tval,ys[pars[2]], label='P-PL_{}'.format(resid))\n",
        "    plt.plot(tval,ys[pars[1]], label='PL_{}'.format(resid))\n",
        "    plt.subplots_adjust(hspace=0.5, wspace=0.4)\n",
        "    plt.legend()"
      ],
      "execution_count": 107,
      "outputs": [
        {
          "output_type": "display_data",
          "data": {
            "image/png": "[encoded data removed]",
            "text/plain": [
              "<Figure size 432x288 with 3 Axes>"
            ]
          },
          "metadata": {
            "tags": [],
            "needs_background": "light"
          }
        }
      ]
    },
    {
      "cell_type": "markdown",
      "metadata": {
        "id": "4WJHaK4McFMK",
        "colab_type": "text"
      },
      "source": [
        "####Simulating data with noise\n"
      ]
    },
    {
      "cell_type": "code",
      "metadata": {
        "id": "KkIbYhwSYfeC",
        "colab_type": "code",
        "colab": {
          "base_uri": "https://localhost:8080/",
          "height": 295
        },
        "outputId": "abd3c356-fcd7-4c8f-aaf1-9dc39d8988c5"
      },
      "source": [
        "#data with noise\n",
        "\n",
        "tStart = 0.0\n",
        "tStop = 1.0        # Tmix up to about 1/R1\n",
        "nTimes = 11\n",
        "tval = np.linspace(tStart,tStop,nTimes) # to get a matching time axis for plotting\n",
        "tmix = tval\n",
        "\n",
        "ys_data = model(T_mix = tmix, k_on = kon, k_off = koff,\n",
        "           **R1Ps,\n",
        "           **IPzeros,\n",
        "           **IPLzeros\n",
        "           )._asdict()\n",
        "\n",
        "sigma_data = 0.01\n",
        "np.random.seed(88)\n",
        "for var in ys_data:\n",
        "    ys_data[var] += np.random.normal(0, sigma_data, size=len(tmix))\n",
        "\n",
        "#needed because IP_1 etc are symfit Parameters hidden inside IPs etc.\n",
        "#also makes plotting multiple sites easier\n",
        "parsDict = dict(zip(resids,list(zip(IPs, IPLs, IPPLs, IPLPs))))\n",
        "\n",
        "#plot the results\n",
        "for resid, pars in parsDict.items():\n",
        "    plt.subplot(2,2,resid)\n",
        "    plt.title(\"Residue {}\".format(resid))\n",
        "    plt.xlabel('time (s)')\n",
        "    plt.ylabel('relative intensity')\n",
        "    plt.scatter(tval,ys_data[pars[0]], label='P_{}'.format(resid))\n",
        "    plt.scatter(tval,ys_data[pars[3]], label='PL-P_{}'.format(resid))\n",
        "    plt.scatter(tval,ys_data[pars[2]], label='P-PL_{}'.format(resid))\n",
        "    plt.scatter(tval,ys_data[pars[1]], label='PL_{}'.format(resid))\n",
        "    plt.subplots_adjust(hspace=0.5, wspace=0.5)\n",
        "    plt.legend()"
      ],
      "execution_count": 109,
      "outputs": [
        {
          "output_type": "display_data",
          "data": {
            "image/png": "[encoded data removed]",
            "text/plain": [
              "<Figure size 432x288 with 3 Axes>"
            ]
          },
          "metadata": {
            "tags": [],
            "needs_background": "light"
          }
        }
      ]
    },
    {
      "cell_type": "markdown",
      "metadata": {
        "id": "KZO0sEgXcLev",
        "colab_type": "text"
      },
      "source": [
        "####Fitting the data with the model\n",
        "Need to use Variable.name to feed the string version of the name to Fit.\n",
        "\n",
        "Have to set absolute_sigma = True to prevent crash on 0 degrees of freedom. This should be the default anyway?\n",
        "\n",
        "Fits are good apart from large SDs on R1s. Could be a feature of how well sampled R1s are and insensitivity of the model to their values. Suggests that having independent R1s for the different states is not very important."
      ]
    },
    {
      "cell_type": "code",
      "metadata": {
        "id": "vcaorvP5ZiqH",
        "colab_type": "code",
        "colab": {
          "base_uri": "https://localhost:8080/",
          "height": 677
        },
        "outputId": "3a99800d-e32d-4b65-8e47-10dfb042b1a3"
      },
      "source": [
        "from symfit import Fit\n",
        "\n",
        "IPsToFit = {i.name : ys_data[i] for i in IPs}\n",
        "IPLsToFit = {i.name : ys_data[i] for i in IPLs}\n",
        "IPPLsToFit = {i.name : ys_data[i] for i in IPPLs}\n",
        "IPLPsToFit = {i.name : ys_data[i] for i in IPLPs}\n",
        "\n",
        "fit = Fit(model,T_mix = tmix,\n",
        "          **IPsToFit,\n",
        "          **IPLsToFit,\n",
        "          **IPPLsToFit,\n",
        "          **IPLPsToFit,\n",
        "          absolute_sigma = True\n",
        "          )\n",
        "fit_result = fit.execute()\n",
        "print(fit_result)\n",
        "\n",
        "taxis = np.linspace(tmix.min(), tmix.max(), 51)\n",
        "model_fit = model(T_mix=taxis, **fit_result.params)._asdict()\n",
        "#plot the results\n",
        "for resid, pars in parsDict.items():\n",
        "    plt.subplot(2,2,resid)\n",
        "    plt.title(\"Residue {}\".format(resid))\n",
        "    plt.xlabel('time (s)')\n",
        "    plt.ylabel('relative intensity')\n",
        "    plt.scatter(tval,ys_data[pars[0]], label='P_{}'.format(resid))\n",
        "    plt.scatter(tval,ys_data[pars[3]], label='PL-P_{}'.format(resid))\n",
        "    plt.scatter(tval,ys_data[pars[2]], label='P-PL_{}'.format(resid))\n",
        "    plt.scatter(tval,ys_data[pars[1]], label='PL_{}'.format(resid))\n",
        "    plt.plot(taxis,model_fit[pars[0]])\n",
        "    plt.plot(taxis,model_fit[pars[3]])\n",
        "    plt.plot(taxis,model_fit[pars[2]])\n",
        "    plt.plot(taxis,model_fit[pars[1]])\n",
        "    plt.subplots_adjust(hspace=0.5, wspace=0.4)\n",
        "    plt.legend()"
      ],
      "execution_count": 116,
      "outputs": [
        {
          "output_type": "stream",
          "text": [
            "\n",
            "Parameter Value        Standard Deviation\n",
            "IPLzero_1 3.609310e-01 8.153081e-01\n",
            "IPLzero_2 6.814080e-01 8.312937e-01\n",
            "IPLzero_3 1.044802e+00 8.898358e-01\n",
            "IPzero_1  1.497382e-01 6.225858e-01\n",
            "IPzero_2  2.993520e-01 6.333444e-01\n",
            "IPzero_3  4.484529e-01 6.739586e-01\n",
            "R1P_1     1.257842e+00 6.783674e+00\n",
            "R1P_2     1.002468e+00 3.213560e+00\n",
            "R1P_3     7.888297e-01 2.013324e+00\n",
            "k_off     5.963737e+00 1.514761e+01\n",
            "k_on      4.001030e+00 1.059257e+01\n",
            "Status message         Optimization terminated successfully.\n",
            "Number of iterations   41\n",
            "Objective              <symfit.core.objectives.LeastSquares object at 0x7fe919281048>\n",
            "Minimizer              <symfit.core.minimizers.BFGS object at 0x7fe919281ac8>\n",
            "\n",
            "Goodness of fit qualifiers:\n",
            "chi_squared            0.009823492470291153\n",
            "objective_value        0.0049117462351455764\n",
            "r_squared              0.9926684064596867\n"
          ],
          "name": "stdout"
        },
        {
          "output_type": "display_data",
          "data": {
            "image/png": "[encoded data removed]",
            "text/plain": [
              "<Figure size 432x288 with 3 Axes>"
            ]
          },
          "metadata": {
            "tags": [],
            "needs_background": "light"
          }
        }
      ]
    },
    {
      "cell_type": "markdown",
      "metadata": {
        "id": "RtC1Nq0Bq-uc",
        "colab_type": "text"
      },
      "source": [
        "###Algebraic model with independent R1s (not finished yet)\n",
        "It would be nice to have a model with separate R1s for each site in each state and this should be possible with the fuller expansions provided by Palmer and Mittermaier.\n",
        "\n",
        "Here's an attempt with the Mittermaier version since they haven't missed out the sqrt() in the paper."
      ]
    },
    {
      "cell_type": "code",
      "metadata": {
        "id": "QKt1igORpw6j",
        "colab_type": "code",
        "colab": {}
      },
      "source": [
        "#Back to the expanded solution to the matrix exponential as a symfit multicomponent model\n",
        "\n",
        "from symfit import parameters, variables, symbols, Matrix, Variable, Parameter\n",
        "from symfit import exp, sqrt\n",
        "from symfit import Model\n",
        "\n",
        "kon, koff, R1P, R1PL = parameters('k_on, k_off, R_1P, R_1PL')\n",
        "#A = MatrixSymbol('A',[[kon + R1P , -1*koff],[-1*kon, koff + R1PL]])\n",
        "IPzero, IPLzero = parameters('I_P0, I_PL0')\n",
        "#yzero = Matrix([[IPzero, 0],[0, IPLzero]])\n",
        "L1, L2 = variables('L1, L2')\n",
        "IP, IPL, IP_PL, IPL_P = variables('I_P, I_PL, I_PPL, I_PLP')\n",
        "#y = Matrix([[IP, IPL_P],[IP_PL, IPL]])\n",
        "tmix = Variable('T_mix')\n",
        "\n",
        "#Mittermaier\n",
        "a11 = R1P + kon\n",
        "a12 = -1*koff\n",
        "a21 = -1*kon\n",
        "a22 = R1PL + koff\n",
        "\n",
        "lambda1 = (0.5 * (a11 + a22)) + sqrt((a11 + a22)**2 + (4 * kon * koff))\n",
        "lambda2 = (0.5 * (a11 + a22)) - sqrt((a11 + a22)**2 + (4 * kon * koff))\n",
        "\n",
        "l1expt = exp(-1 * lambda1 * tmix)\n",
        "l2expt = exp(-1 * lambda2 * tmix)\n",
        "\n",
        "#model_dict = {\n",
        "#    IP    : IPzero  * (((a11 - lambda2) * l1expt) + ((lambda1 - a11)* l2expt)) / (lambda1 - lambda2),\n",
        "#    IPL   : IPLzero * (((a22 - lambda2) * l1expt) + ((lambda1 - a22)* l2expt)) / (lambda1 - lambda2),\n",
        "#    IP_PL : IPzero  * (((a21          ) * l1expt) - ((a21          )* l2expt)) / (lambda1 - lambda2),\n",
        "#    IPL_P : IPzero  * (((a12          ) * l1expt) + ((a12          )* l2expt)) / (lambda1 - lambda2)\n",
        "#}\n",
        "\n",
        "\n",
        "model = Model(model_dict)\n",
        "\n",
        "print(model)\n",
        "\n"
      ],
      "execution_count": 0,
      "outputs": []
    },
    {
      "cell_type": "code",
      "metadata": {
        "id": "OVpZFBZlpyQA",
        "colab_type": "code",
        "colab": {}
      },
      "source": [
        "#make some data\n",
        "\n",
        "kex = 10.0   # s^{-1}\n",
        "kon = 4.0    # M * M^{-1}s^{-1} concentration times diffusion limited on rate\n",
        "koff = kex - kon\n",
        "R1P = 1.0    # s^{-1}\n",
        "R1PL = R1P   # keep things simple for now\n",
        "pa = 0.3\n",
        "pb = 1 - pa\n",
        "\n",
        "IPzero = 1 * pa\n",
        "IPLzero = 1 * pb\n",
        "\n",
        "tStart = 0.0\n",
        "tStop = 1.0        # Tmix up to about 1/R1\n",
        "nTimes = 51\n",
        "tval = np.linspace(tStart,tStop,nTimes) # to get a matching time axis for plotting\n",
        "tmix = tval\n",
        "\n",
        "y = model(T_mix = tmix, R_1P = R1P, R_1PL = R1PL, k_on = kon, k_off = koff, I_P0 = IPzero, I_PL0 = IPLzero)\n",
        "\n",
        "#print(y[0][:])\n",
        "\n",
        "#plot the results\n",
        "plt.title(\"EXSY intensities simulation\")\n",
        "plt.xlabel('time (s)')\n",
        "plt.ylabel('relative intensity')\n",
        "plt.plot(tval,y[0], label='P')\n",
        "plt.plot(tval,y[1], label='PL-P')\n",
        "plt.plot(tval,y[2], label='P-PL')\n",
        "plt.plot(tval,y[3], label='PL')\n",
        "#plt.plot(tval,y[4], label='L1')\n",
        "#plt.plot(tval,y[5], label='L2')\n",
        "plt.legend()"
      ],
      "execution_count": 0,
      "outputs": []
    },
    {
      "cell_type": "markdown",
      "metadata": {
        "id": "MJHCjdlzWKWZ",
        "colab_type": "text"
      },
      "source": [
        "## Three state model"
      ]
    }
  ]
}