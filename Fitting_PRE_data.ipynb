{
  "nbformat": 4,
  "nbformat_minor": 0,
  "metadata": {
    "colab": {
      "name": "Fitting PRE data.ipynb",
      "provenance": [],
      "collapsed_sections": [],
      "toc_visible": true,
      "authorship_tag": "ABX9TyPVqHIQ6RPMW44aaYD+jyvR",
      "include_colab_link": true
    },
    "kernelspec": {
      "name": "python3",
      "display_name": "Python 3"
    },
    "language_info": {
      "name": "python"
    }
  },
  "cells": [
    {
      "cell_type": "markdown",
      "metadata": {
        "id": "view-in-github",
        "colab_type": "text"
      },
      "source": [
        "<a href=\"https://colab.research.google.com/github/brianosmith/EXSY_fitting_notebook/blob/master/Fitting_PRE_data.ipynb\" target=\"_parent\"><img src=\"https://colab.research.google.com/assets/colab-badge.svg\" alt=\"Open In Colab\"/></a>"
      ]
    },
    {
      "cell_type": "markdown",
      "metadata": {
        "id": "IKZAFOwaf-ZU"
      },
      "source": [
        "# Fitting paramagnetic relaxation enhancement data\n",
        "\n",
        "## Theory\n",
        "The effect of PREs on HSQC crosspeak intensitities can be described by \n",
        "\n",
        "$\n",
        "I_{para}/I_{dia}=R_2e^{−R_2^{sp}t}/(R_2+R_2^{sp})\n",
        "$\n",
        "\n",
        "where, $I_{para}$ and $I_{dia}$ are the measured intensities of the cross peaks for the paramagnetic and diamagnetic forms of the protein, respectively, and t is the total evolution time of the transverse proton magnetization during the NMR experiment. The values of R correspond to the rate of the transverse relaxation of the amide proton, $R_2$ is the intrinsic relaxation rate of the proton, $R_2^{sp}$, is the contribution to the relaxation caused by the paramagnetic probe.\n",
        "\n",
        "The value of $R_2^{sp}$ is dependent upon r, the distance between the amide proton and the probe. This relationship is described by a modified version of the Solomon-Bloembergen (Solomon and Bloembergen, 1956; Battiste and Wagner, 2000)\n",
        "\n",
        "$\n",
        "r=[(K/R_2^{sp})(4τ_c+{3τ_c}/{(1+ω_H^2τ_c^2)})]^{1/6}\n",
        "$\n",
        "\n",
        "where, K is a constant ($1.23 × 10^{-32} cm^6 sec^{-2}$) that describes the spin properties of the MTSL spin label (Battiste and Wagner, 2000), $ω_H$ is the Larmor frequency of the proton spin, $τ_c$ is the apparent PRE correlation time (Simon et al., 2010). $ω_H$ is known and values of $τ_c$ can be estimated based on either the molecular weight of the protein (Cavanagh et al., 1995) or based on $^{15}$N backbone relaxation measurements.\n",
        "\n",
        "Rearranging the first equation\n",
        "\n",
        "$\n",
        "R_2^{sp} = -R_2 + \\frac{1}{t}\\times W(\\frac{R_2te^{R_2t}}{I_{para}/I_{dia}})\n",
        "$\n",
        "\n",
        "where W() is the Lambert function."
      ]
    },
    {
      "cell_type": "markdown",
      "metadata": {
        "id": "AhsIpftb8NWG"
      },
      "source": [
        "aside: the origin of the value of K\n",
        "\n",
        "Battiste & Wagner, 2000 give the equation for K as\n",
        "\n",
        "$\n",
        "K = 1/15(S(S+1)\\gamma^2g^2\\beta^2)\n",
        "$\n",
        "\n",
        "where S is is the spin quantum number of the paramagnetic species (1/2 for a single electron), $\\gamma$ is the nuclear gyromagnetic ratio ($2.6752218744 \\times 10^8 s^{-1} T^{-1}$ for $^1$H), g is the electron g factor ($2.00232$), and $\\beta$ is the Bohr magneton ($9.274009994 \\times 10^{−24} J T^{-1}$). But it should include another term:\n",
        "\n",
        "$\n",
        "K = 1/15(S(S+1)(\\mu_0/4\\pi)^2\\gamma^2g^2\\beta^2)\n",
        "$\n",
        "\n",
        "where $\\mu_0$ ($4 \\pi \\times 10^{-7} Hm^{-1}$) is the magnetic permeability in a vacuum (see the dipolar component of eqn 3.9 in [Kowalewski et al. 1985](https://doi.org/10.1016/0079-6565(85)80007-8)). In cgs units $\\mu_0 = 1$ hence the likely omission.\n",
        "\n",
        "So in S.I. units\n",
        "\n",
        "$\n",
        "K = 1/15(0.5(0.5+1))\\times (4\\pi \\times 1 \\times 10^{-7}/ 4 \\pi)^2 \\times (2.6752218744 \\times 10^8)^2 \\times (2.00232)^2 \\times (9.274009994 \\times 10^{−24})^2 H^2 J^2 m^{-2} s^{-2} T^{-4}\n",
        "$\n",
        "\n",
        "so\n",
        "\n",
        "$\n",
        "K = 1.234 \\times 10^{-44} H^2 J^2 m^{-2} s^{-2} T^{-4}\n",
        "$\n",
        "\n",
        "but $1H = 1 kg m^2 s^{-2} A^{-2}$, $1 J  = 1 kg m^2 s^{-2}$ and $1T = 1 kg A^{-1} s^{-2}$ so the units of K are $kg^2 m^4 s^{-4} A^{-4} \\times kg^2 m^4 s^{-6} \\times m^{-2} \\times kg^{-4}A^4s^8 = m^6 s^{-2}$\n"
      ]
    },
    {
      "cell_type": "code",
      "metadata": {
        "colab": {
          "base_uri": "https://localhost:8080/",
          "height": 81
        },
        "id": "E1jTSQkTf9V7",
        "outputId": "a2a6ea13-d06c-4da7-950f-6c785ca2e5a9"
      },
      "source": [
        "from sympy import *\n",
        "init_printing(use_unicode=True)\n",
        "\n",
        "ratio, t, R2, R2sp = symbols('I_r, t R_2 R_2^{sp}')\n",
        "\n",
        "Eq(ratio,(R2*exp(-1*R2sp*t))/(R2+R2sp))\n",
        "\n",
        "solve(Eq(ratio,(R2*exp(-1*R2sp*t))/(R2+R2sp)),R2sp)\n",
        "#W() in this solution is the Lambert function"
      ],
      "execution_count": null,
      "outputs": [
        {
          "output_type": "execute_result",
          "data": {
            "image/png": "[encoded data removed]",
            "text/latex": "$\\displaystyle \\left[ - R_{2} + \\frac{W\\left(\\frac{R_{2} t e^{R_{2} t}}{I_{r}}\\right)}{t}\\right]$",
            "text/plain": [
              "⎡       ⎛      R₂⋅t⎞⎤\n",
              "⎢       ⎜R₂⋅t⋅ℯ    ⎟⎥\n",
              "⎢      W⎜──────────⎟⎥\n",
              "⎢       ⎝    Iᵣ    ⎠⎥\n",
              "⎢-R₂ + ─────────────⎥\n",
              "⎣            t      ⎦"
            ]
          },
          "metadata": {
            "tags": []
          },
          "execution_count": 2
        }
      ]
    },
    {
      "cell_type": "code",
      "metadata": {
        "colab": {
          "base_uri": "https://localhost:8080/",
          "height": 84
        },
        "id": "Eum9CrfMpLTu",
        "outputId": "20307639-5f28-48ed-fd0d-eac8aabcd951"
      },
      "source": [
        "r, K, tc, wh = symbols('r K τ_c ω_H')\n",
        "Eq(r,((K/R2sp)*(4*tc + (3*tc/(1+wh**2*tc**2))))**(1/6))\n",
        "\n",
        "#solve(Eq(r,((K/R2sp)*(4*tc + (3*tc/(1+wh**2*tc**2))))**(1/6)),R2sp)\n"
      ],
      "execution_count": null,
      "outputs": [
        {
          "output_type": "execute_result",
          "data": {
            "image/png": "[encoded data removed]",
            "text/latex": "$\\displaystyle r = \\left(\\frac{K \\left(4 τ_{c} + \\frac{3 τ_{c}}{τ_{c}^{2} ω_{H}^{2} + 1}\\right)}{R_2^{sp}}\\right)^{0.166666666666667}$",
            "text/plain": [
              "                               0.166666666666667\n",
              "    ⎛  ⎛            3⋅τ_c    ⎞⎞                 \n",
              "    ⎜K⋅⎜4⋅τ_c + ─────────────⎟⎟                 \n",
              "    ⎜  ⎜           2    2    ⎟⎟                 \n",
              "    ⎜  ⎝        τ_c ⋅ω_H  + 1⎠⎟                 \n",
              "r = ⎜─────────────────────────⎟                 \n",
              "    ⎝        R_2__{sp}        ⎠                 "
            ]
          },
          "metadata": {
            "tags": []
          },
          "execution_count": 3
        }
      ]
    },
    {
      "cell_type": "code",
      "metadata": {
        "colab": {
          "base_uri": "https://localhost:8080/",
          "height": 314
        },
        "id": "VzOI_FML9r7q",
        "outputId": "f5905c95-7fd2-4775-8d7f-f216dd1cbba7"
      },
      "source": [
        "# combining the two equations to get r from Ipara/Idia\n",
        "from scipy.special import lambertw\n",
        "from numpy import linspace\n",
        "from math import *\n",
        "\n",
        "# some constants\n",
        "k = 1.23E-44  # m^6 s^-2\n",
        "r2 = 0.15     # 1/Hz = s   # calculated from amide linewidth = pi/R2\n",
        "T = 9.6E-3    # s          # total length of INEPT delays in HSQC\n",
        "Tc = 8.0e-9   # s          # estimated from structure or from 15N relaxation\n",
        "Wh = 599.98E6 # Hz = s^-1  # 1H frequency of spectrometer used\n",
        "ulp = 0.0     # proportion unlabelled\n",
        "\n",
        "def realLambertW(z):\n",
        "  #takes a float, converts to complex, applies lambertw and returns real part\n",
        "  compZ = complex(z,0)\n",
        "  lwz = lambertw(compZ)\n",
        "  #should check there's no complex part\n",
        "  return lwz.real\n",
        "\n",
        "def rFromIratio(Ir, r2, T, Tc, Wh, k=1.23E-44):\n",
        "  # k = 1.23 x 10^-44 should be correct for m^6 s^-2 with no cm->m conversion\n",
        "  #takes the intensity ratio and returns the coresponding distance\n",
        "  Wbit = realLambertW((r2*T*exp(r2*T))/Ir)\n",
        "  r = ((k/(-1*r2 + (Wbit/T)))*(4*Tc + (3*Tc/(1+Wh**2*Tc**2))))**(1/6)\n",
        "  return r\n",
        "\n",
        "# construct a calibration curve using the functions defined above\n",
        "Iratio = linspace(ulp+0.01,0.99,1000)\n",
        "distances = []\n",
        "for Ir in Iratio:\n",
        "  rIr = Ir-ulp\n",
        "  r = rFromIratio(rIr, r2, T, Tc, Wh)\n",
        "  distances.append(r)\n",
        "\n",
        "# for drawing the graph\n",
        "%matplotlib inline\n",
        "import matplotlib.pyplot as plt\n",
        "\n",
        "plt.title(\"PRE intensity ratio to distance relationship\")\n",
        "plt.xlabel('Ipara/Idia')\n",
        "plt.ylabel('distance (m)')\n",
        "plt.plot(Iratio,distances)\n",
        "#plt.legend()"
      ],
      "execution_count": null,
      "outputs": [
        {
          "output_type": "execute_result",
          "data": {
            "text/plain": [
              "[<matplotlib.lines.Line2D at 0x7f9904bb2fd0>]"
            ]
          },
          "metadata": {
            "tags": []
          },
          "execution_count": 5
        },
        {
          "output_type": "display_data",
          "data": {
            "image/png": "[encoded data removed]",
            "text/plain": [
              "<Figure size 432x288 with 1 Axes>"
            ]
          },
          "metadata": {
            "tags": [],
            "needs_background": "light"
          }
        }
      ]
    },
    {
      "cell_type": "markdown",
      "metadata": {
        "id": "thTSC3JVaxdI"
      },
      "source": [
        "## Analysis of experimental data\n",
        "Compare distances calculated from Ipara/Idia intensity ratios with those measured from the structure(s)."
      ]
    },
    {
      "cell_type": "code",
      "metadata": {
        "id": "H8A4CizMmmVm",
        "colab": {
          "base_uri": "https://localhost:8080/"
        },
        "outputId": "26a95ad9-b8cd-4d05-b32b-4a268c7f70bc"
      },
      "source": [
        "import pandas as pd\n",
        "import numpy as np\n",
        "\n",
        "#Read Ipara/Idia ratios by residue number as a pandas dataframe\n",
        "Irdf = pd.read_csv('MoRu21_Ir.csv')\n",
        "Irdf = Irdf.rename(columns={\"Residue\": \"resi\", \"Intensity Ratio\":\"Ir\"})\n",
        "Irdf = Irdf[['resi', 'Ir']]\n",
        "\n",
        "# Read diamagnetic 1H linewidths by residue number as pandas dataframe.\n",
        "# Calculate average linewidth for average R2 estimate or store per residue\n",
        "# R2s to the Ipara/Idia dataframe for the distance extraction\n",
        "lwdf = pd.read_csv('MoRu21_lw.csv', converters={\"Assign F1\": str})\n",
        "lwdf = lwdf.assign(resi = lwdf[\"Assign F1\"].str.extract(\"([0-9]+)\"))\n",
        "#convert resi to int dropping any NaNs\n",
        "lwdf['resi']=lwdf['resi'].dropna().apply(np.int64)\n",
        "lwdf = lwdf.assign(R2 = 2 * pi / lwdf[\"Line Width F1 (Hz)\"])\n",
        "r2df = lwdf[[\"resi\",\"R2\"]]\n",
        "\n",
        "Irdf=Irdf.merge(right=r2df,on=\"resi\")\n",
        "\n",
        "#Add column to store distances and calculate using rFromIratio() \n",
        "Irdf['IrDist'] = Irdf.apply(lambda x: rFromIratio(x['Ir'], x['R2'], T, Tc, Wh), axis=1)\n",
        "\n",
        "#Read distances of each amide H from the spin label attachment site as\n",
        "# calculated from the structure(s) as a pandas dataframe\n",
        "# string converter does not work on atom identifiers (probs with backticks & slashes?)\n",
        "distdf = pd.read_csv('myDistances.csv', converters={\"Atom Macro ID\": str})\n",
        "# so the str.extract() works peculiarly returning an object that can't be cast to an int\n",
        "distdf = distdf.assign(resi = distdf[\"Atom Macro ID\"].str.extract(r\"`(.+)/H`\"))\n",
        "# so cast the object to a str first?\n",
        "#distdf['resi']=distdf['resi'].apply(str)\n",
        "#convert resi to int dropping any NaNs\n",
        "distdf['resi']=distdf['resi'].dropna().apply(np.int64)\n",
        "\n",
        "Irdf=Irdf.merge(right=distdf,on=\"resi\")\n",
        "Irdf=Irdf.rename(columns={\" distance_to_origin\": \"strDist\", \"Atom Macro ID\": \"atomID\"})\n",
        "# convert to m for comparison with IrDist\n",
        "Irdf['strDist'] = Irdf['strDist'] / 1.0e10\n",
        "\n",
        "#Plot the PRE distances vs the structure distances and calculate correlation\n",
        "# and stats by linear regression"
      ],
      "execution_count": 113,
      "outputs": [
        {
          "output_type": "stream",
          "text": [
            "/usr/local/lib/python3.7/dist-packages/ipykernel_launcher.py:25: RuntimeWarning: invalid value encountered in double_scalars\n"
          ],
          "name": "stderr"
        }
      ]
    },
    {
      "cell_type": "code",
      "metadata": {
        "colab": {
          "base_uri": "https://localhost:8080/",
          "height": 423
        },
        "id": "rIR9aeiEf6oB",
        "outputId": "97326653-fb0a-4ca0-ae0e-0f920b6683d8"
      },
      "source": [
        "Irdf"
      ],
      "execution_count": 114,
      "outputs": [
        {
          "output_type": "execute_result",
          "data": {
            "text/html": [
              "<div>\n",
              "<style scoped>\n",
              "    .dataframe tbody tr th:only-of-type {\n",
              "        vertical-align: middle;\n",
              "    }\n",
              "\n",
              "    .dataframe tbody tr th {\n",
              "        vertical-align: top;\n",
              "    }\n",
              "\n",
              "    .dataframe thead th {\n",
              "        text-align: right;\n",
              "    }\n",
              "</style>\n",
              "<table border=\"1\" class=\"dataframe\">\n",
              "  <thead>\n",
              "    <tr style=\"text-align: right;\">\n",
              "      <th></th>\n",
              "      <th>resi</th>\n",
              "      <th>Ir</th>\n",
              "      <th>R2</th>\n",
              "      <th>IrDist</th>\n",
              "      <th>atomID</th>\n",
              "      <th>strDist</th>\n",
              "    </tr>\n",
              "  </thead>\n",
              "  <tbody>\n",
              "    <tr>\n",
              "      <th>0</th>\n",
              "      <td>1</td>\n",
              "      <td>0.54011</td>\n",
              "      <td>0.375538</td>\n",
              "      <td>3.294146e-09</td>\n",
              "      <td>/2c34/A/A/MET`1/H`</td>\n",
              "      <td>2.576200e-09</td>\n",
              "    </tr>\n",
              "    <tr>\n",
              "      <th>1</th>\n",
              "      <td>2</td>\n",
              "      <td>0.46029</td>\n",
              "      <td>0.360379</td>\n",
              "      <td>3.145037e-09</td>\n",
              "      <td>/2c34/A/A/ILE`2/H`</td>\n",
              "      <td>2.566600e-09</td>\n",
              "    </tr>\n",
              "    <tr>\n",
              "      <th>2</th>\n",
              "      <td>3</td>\n",
              "      <td>0.26908</td>\n",
              "      <td>0.427228</td>\n",
              "      <td>2.661015e-09</td>\n",
              "      <td>/2c34/A/A/ALA`3/H`</td>\n",
              "      <td>2.369000e-09</td>\n",
              "    </tr>\n",
              "    <tr>\n",
              "      <th>3</th>\n",
              "      <td>15</td>\n",
              "      <td>1.00702</td>\n",
              "      <td>0.318057</td>\n",
              "      <td>NaN</td>\n",
              "      <td>/2c34/A/A/ASP`15/H`</td>\n",
              "      <td>2.011000e-09</td>\n",
              "    </tr>\n",
              "    <tr>\n",
              "      <th>4</th>\n",
              "      <td>16</td>\n",
              "      <td>0.96622</td>\n",
              "      <td>0.299240</td>\n",
              "      <td>5.821221e-09</td>\n",
              "      <td>/2c34/A/A/THR`16/H`</td>\n",
              "      <td>2.224800e-09</td>\n",
              "    </tr>\n",
              "    <tr>\n",
              "      <th>...</th>\n",
              "      <td>...</td>\n",
              "      <td>...</td>\n",
              "      <td>...</td>\n",
              "      <td>...</td>\n",
              "      <td>...</td>\n",
              "      <td>...</td>\n",
              "    </tr>\n",
              "    <tr>\n",
              "      <th>64</th>\n",
              "      <td>104</td>\n",
              "      <td>0.17373</td>\n",
              "      <td>0.367282</td>\n",
              "      <td>2.487718e-09</td>\n",
              "      <td>/2c34/A/A/GLU`104/H`</td>\n",
              "      <td>1.495100e-09</td>\n",
              "    </tr>\n",
              "    <tr>\n",
              "      <th>65</th>\n",
              "      <td>107</td>\n",
              "      <td>0.59365</td>\n",
              "      <td>0.277424</td>\n",
              "      <td>3.591736e-09</td>\n",
              "      <td>/2c34/A/A/THR`107/H`</td>\n",
              "      <td>1.387000e-09</td>\n",
              "    </tr>\n",
              "    <tr>\n",
              "      <th>66</th>\n",
              "      <td>108</td>\n",
              "      <td>0.82029</td>\n",
              "      <td>0.264803</td>\n",
              "      <td>4.375581e-09</td>\n",
              "      <td>/2c34/A/A/LEU`108/H`</td>\n",
              "      <td>1.418400e-09</td>\n",
              "    </tr>\n",
              "    <tr>\n",
              "      <th>67</th>\n",
              "      <td>111</td>\n",
              "      <td>1.00404</td>\n",
              "      <td>0.242254</td>\n",
              "      <td>NaN</td>\n",
              "      <td>/2c34/A/A/ASN`111/H`</td>\n",
              "      <td>2.131300e-09</td>\n",
              "    </tr>\n",
              "    <tr>\n",
              "      <th>68</th>\n",
              "      <td>113</td>\n",
              "      <td>0.94869</td>\n",
              "      <td>0.275874</td>\n",
              "      <td>5.486601e-09</td>\n",
              "      <td>/2c34/A/A/LYS`113/H`</td>\n",
              "      <td>2.513300e-09</td>\n",
              "    </tr>\n",
              "  </tbody>\n",
              "</table>\n",
              "<p>69 rows × 6 columns</p>\n",
              "</div>"
            ],
            "text/plain": [
              "    resi       Ir        R2        IrDist                atomID       strDist\n",
              "0      1  0.54011  0.375538  3.294146e-09    /2c34/A/A/MET`1/H`  2.576200e-09\n",
              "1      2  0.46029  0.360379  3.145037e-09    /2c34/A/A/ILE`2/H`  2.566600e-09\n",
              "2      3  0.26908  0.427228  2.661015e-09    /2c34/A/A/ALA`3/H`  2.369000e-09\n",
              "3     15  1.00702  0.318057           NaN   /2c34/A/A/ASP`15/H`  2.011000e-09\n",
              "4     16  0.96622  0.299240  5.821221e-09   /2c34/A/A/THR`16/H`  2.224800e-09\n",
              "..   ...      ...       ...           ...                   ...           ...\n",
              "64   104  0.17373  0.367282  2.487718e-09  /2c34/A/A/GLU`104/H`  1.495100e-09\n",
              "65   107  0.59365  0.277424  3.591736e-09  /2c34/A/A/THR`107/H`  1.387000e-09\n",
              "66   108  0.82029  0.264803  4.375581e-09  /2c34/A/A/LEU`108/H`  1.418400e-09\n",
              "67   111  1.00404  0.242254           NaN  /2c34/A/A/ASN`111/H`  2.131300e-09\n",
              "68   113  0.94869  0.275874  5.486601e-09  /2c34/A/A/LYS`113/H`  2.513300e-09\n",
              "\n",
              "[69 rows x 6 columns]"
            ]
          },
          "metadata": {
            "tags": []
          },
          "execution_count": 114
        }
      ]
    }
  ]
}