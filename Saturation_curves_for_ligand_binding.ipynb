{
  "nbformat": 4,
  "nbformat_minor": 0,
  "metadata": {
    "colab": {
      "name": "Saturation curves for ligand binding",
      "provenance": [],
      "collapsed_sections": [],
      "authorship_tag": "ABX9TyPyCLtG/Oj2tnEk4JiuIUyX",
      "include_colab_link": true
    },
    "kernelspec": {
      "name": "python3",
      "display_name": "Python 3"
    }
  },
  "cells": [
    {
      "cell_type": "markdown",
      "metadata": {
        "id": "view-in-github",
        "colab_type": "text"
      },
      "source": [
        "<a href=\"https://colab.research.google.com/github/brianosmith/EXSY_fitting_notebook/blob/master/Saturation_curves_for_ligand_binding.ipynb\" target=\"_parent\"><img src=\"https://colab.research.google.com/assets/colab-badge.svg\" alt=\"Open In Colab\"/></a>"
      ]
    },
    {
      "cell_type": "markdown",
      "metadata": {
        "id": "W3Z6qDwWEkpD"
      },
      "source": [
        "#Saturation curves for ligand binding\n",
        "\n",
        "Goal is to produce a tool to calculate e.g. [L] required for a set fractional saturation at a known [M] or vice versa."
      ]
    },
    {
      "cell_type": "markdown",
      "metadata": {
        "id": "OgLEsP0EE_Fi"
      },
      "source": [
        "First simulate Y and plot it\n",
        "\n",
        "$\n",
        "Y = \\frac{([M_{tot}] + [L_{tot}] + K_d) \\pm \\sqrt{([M_{tot}] + [L_{tot}] + K_d)^2 - 4[M_{tot}][L_{tot}]} }{ 2[M_{tot}]}\n",
        "$\n",
        "\n",
        "which is typically going to subtract the positive root of the square root from the sum."
      ]
    },
    {
      "cell_type": "code",
      "metadata": {
        "id": "d9JioLoAEaEs",
        "colab": {
          "base_uri": "https://localhost:8080/"
        },
        "outputId": "1ea494ae-c514-4656-8728-26473b5ce7f8"
      },
      "source": [
        "# sqrt is in the math package and has to be imported\n",
        "from math import sqrt\n",
        "\n",
        "# some values to calculate with\n",
        "M = 0.5\n",
        "Kd = 0.15\n",
        "L = 0.125\n",
        "\n",
        "# careful placement of brackets required to get the correct evaluation order\n",
        "# x**y to raise a value to a power\n",
        "\n",
        "Y = ((M + L + Kd) - sqrt((M + L + Kd)**2 - (4 * M * L)))/(2 * M)\n",
        "\n",
        "print(Y)"
      ],
      "execution_count": 2,
      "outputs": [
        {
          "output_type": "stream",
          "text": [
            "0.1828640358836494\n"
          ],
          "name": "stdout"
        }
      ]
    },
    {
      "cell_type": "code",
      "metadata": {
        "id": "gyBcwiKpTo6y",
        "colab": {
          "base_uri": "https://localhost:8080/",
          "height": 352
        },
        "outputId": "e2b344df-3db4-4be4-9ad8-ae33d35a09d7"
      },
      "source": [
        "# for drawing the graph\n",
        "%matplotlib inline\n",
        "import matplotlib.pyplot as plt\n",
        "# math function as above\n",
        "from math import sqrt\n",
        "# for creating the L values over which to sample the function. Would also be nice to capture the results in a more sophisticated array.\n",
        "import numpy as np\n",
        "\n",
        "M = 0.1\n",
        "Kd = 0.2\n",
        "\n",
        "Llow = 0.1\n",
        "Lhigh = 1.0\n",
        "nL = 11\n",
        "\n",
        "Lval = np.linspace(Llow, Lhigh, nL)\n",
        "\n",
        "Yval = []\n",
        "Lookup = [] # could be np.array()\n",
        "for L in Lval:\n",
        "  Y = ((M + L + Kd) - sqrt((M + L + Kd)**2 - (4 * M * L)))/(2 * M)\n",
        "  Yval.append(Y)\n",
        "  Lookup.append([L,Y])\n",
        "\n",
        "# crude numerical output - should be formatted better\n",
        "print(\"Lookup: [L], Y...\", Lookup)\n",
        "\n",
        "#plot the results\n",
        "plt.title(\"simulated binding curve\")\n",
        "plt.xlabel('[L] (mM)')\n",
        "plt.ylabel('Y')\n",
        "plt.plot(Lval,Yval, label='Y')\n",
        "#plt.legend()\n",
        "\n"
      ],
      "execution_count": null,
      "outputs": [
        {
          "output_type": "stream",
          "text": [
            "Lookup: [L], Y... [[0.1, 0.26794919243112253], [0.19, 0.4245370899470907], [0.28, 0.5314561435345977], [0.37, 0.6072823696195045], [0.45999999999999996, 0.6631225717283756], [0.5499999999999999, 0.7056382803105438], [0.64, 0.7389395359323281], [0.73, 0.7656528422124237], [0.82, 0.7875162337936142], [0.9099999999999999, 0.8057173989190858], [1.0, 0.8210916541997271]]\n"
          ],
          "name": "stdout"
        },
        {
          "output_type": "execute_result",
          "data": {
            "text/plain": [
              "[<matplotlib.lines.Line2D at 0x7f965037b588>]"
            ]
          },
          "metadata": {
            "tags": []
          },
          "execution_count": 8
        },
        {
          "output_type": "display_data",
          "data": {
            "image/png": "[encoded data removed]",
            "text/plain": [
              "<Figure size 432x288 with 1 Axes>"
            ]
          },
          "metadata": {
            "tags": [],
            "needs_background": "light"
          }
        }
      ]
    },
    {
      "cell_type": "markdown",
      "metadata": {
        "id": "Y7DkTRIx7qIM"
      },
      "source": [
        "can we make an equation solver to give us [L] using sympy?"
      ]
    },
    {
      "cell_type": "code",
      "metadata": {
        "id": "SMnZGvok7o19",
        "colab": {
          "base_uri": "https://localhost:8080/",
          "height": 58
        },
        "outputId": "9f2b11e2-9a99-4709-db71-11cd5c423112"
      },
      "source": [
        "from sympy import *\n",
        "Y, M, L, Kd = symbols('Y M L Kd')\n",
        "init_printing(use_unicode=True)\n",
        "\n",
        "Eq(Y, ((M + L + Kd) - sqrt((M + L + Kd)**2 - (4 * M * L)))/(2 * M))\n",
        "\n",
        "solveset(Eq(Y, ((M + L + Kd) - sqrt((M + L + Kd)**2 - (4 * M * L)))/(2 * M)), L)\n"
      ],
      "execution_count": null,
      "outputs": [
        {
          "output_type": "execute_result",
          "data": {
            "image/png": "[encoded data removed]",
            "text/latex": "$$\\left\\{L\\; |\\; L \\in \\left\\{- \\frac{Y}{Y - 1} \\left(Kd - M Y + M\\right)\\right\\} \\wedge - Kd - L + 2 M Y - M + \\sqrt{- 4 L M + \\left(Kd + L + M\\right)^{2}} = 0 \\right\\}$$",
            "text/plain": [
              "⎧                                                        _____________________\n",
              "⎪        ⎧-Y⋅(Kd - M⋅Y + M) ⎫                           ╱                     \n",
              "⎨L | L ∊ ⎨──────────────────⎬ ∧ -Kd - L + 2⋅M⋅Y - M + ╲╱  -4⋅L⋅M + (Kd + L + M\n",
              "⎪        ⎩      Y - 1       ⎭                                                 \n",
              "⎩                                                                             \n",
              "\n",
              "___    ⎫\n",
              " 2     ⎪\n",
              ")   = 0⎬\n",
              "       ⎪\n",
              "       ⎭"
            ]
          },
          "metadata": {
            "tags": []
          },
          "execution_count": 44
        }
      ]
    },
    {
      "cell_type": "markdown",
      "metadata": {
        "id": "3r3GumIe-_8M"
      },
      "source": [
        "can we now solve for L for particular values of Y, M & Kd?"
      ]
    },
    {
      "cell_type": "code",
      "metadata": {
        "id": "ZcsmXsA_-_cd",
        "colab": {
          "base_uri": "https://localhost:8080/",
          "height": 37
        },
        "outputId": "7df7074e-cd63-4ceb-b464-c042a17cd488"
      },
      "source": [
        "#still using sympy and the symbols imported and defined above\n",
        "fracSat = (((M + L + Kd) - sqrt((M + L + Kd)**2 - (4 * M * L)))/(2 * M)) - Y\n",
        "\n",
        "newFracSat=fracSat.subs([(Y, 0.5), (M, 0.25), (Kd, 0.18)])\n",
        "\n",
        "solveset(newFracSat, L)"
      ],
      "execution_count": null,
      "outputs": [
        {
          "output_type": "execute_result",
          "data": {
            "image/png": "[encoded data removed]",
            "text/latex": "$$\\left\\{0.305\\right\\}$$",
            "text/plain": [
              "{0.305}"
            ]
          },
          "metadata": {
            "tags": []
          },
          "execution_count": 58
        }
      ]
    },
    {
      "cell_type": "markdown",
      "metadata": {
        "id": "C6zHDWyxbLcO"
      },
      "source": [
        "# Simulated response curve for a titration\r\n",
        "In the case that a titration is performed experimentally, it is often the case that the sample is constructed with one partner (often the protein) alone and the other partner (often a small molecule) is increased in concentration by successive addition of material from a concentrated stock solution. In this case, the total volume of the sample will increase with the consequence that the concentration of the initial partner is not constant. Unless the change in volume is very small, this should be accounted for to get be able to fit the data accurately.\r\n",
        "\r\n",
        "Where the availability of material is not limiting, it is good practice to construct a series of samples with the non-varied partner always present at the same concentration.\r\n",
        "\r\n",
        "Alternatively, where the availability of material is limiting, it is good practice to start with two samples of equal volume containing equal concentrations of the non-varied partner and concentrations of the varied partner at the extremes of the range to be explored. Intermediate points are then constructed by successively exchanging volumes between the two samples. The concentration of the non-varied partner is this kept constant.\r\n",
        "\r\n",
        "To account for the first case, where the total volume is varied, the volume can be expressed in terms of ligand concentration\r\n",
        "\r\n",
        "$\r\n",
        "v_t = v_0 \\times \\frac {[L_{s}]}{[L_{s}]-[L_{tot}]}\r\n",
        "$\r\n",
        "\r\n",
        "where $[L_{s}]$ is the ligand (varied partner) stock concentration and the macromolecule (non-varied partner) concentration is therefore\r\n",
        "\r\n",
        "$\r\n",
        "[M_{tot}] = [M_0] \\times v_0/v_t = [M_0] (1 - [L_{tot}]/[L_{s}] )\r\n",
        "$\r\n",
        "\r\n",
        "Where $[M_0]$ is the initial macromolecule concentration. So, the response curve can be expressed as follows\r\n",
        "\r\n",
        "$\r\n",
        "Y = \\frac{([M_0](1 - [L_{tot}]/[L_{s}]) + [L_{tot}] + K_d) \\pm \\sqrt{([M_0](1 - [L_{tot}]/[L_{s}] + [L_{tot}] + K_d)^2 - 4[M_0](1 - [L_{tot}]/[L_{s}][L_{tot}]} }{ 2[M_0](1 - [L_{tot}]/[L_{s}]}\r\n",
        "$\r\n",
        "\r\n"
      ]
    },
    {
      "cell_type": "code",
      "metadata": {
        "colab": {
          "base_uri": "https://localhost:8080/"
        },
        "id": "vyk93J7tmfcd",
        "outputId": "15ee4833-2561-4ee2-fdc6-f0eeb86febcf"
      },
      "source": [
        "# some values to calculate with\r\n",
        "M0 = 0.5\r\n",
        "Kd = 0.15\r\n",
        "L = 0.125\r\n",
        "Ls = 10.0\r\n",
        "\r\n",
        "# careful placement of brackets required to get the correct evaluation order\r\n",
        "# x**y to raise a value to a power\r\n",
        "\r\n",
        "Y = ((M0*(1-(L/Ls)) + L + Kd) - sqrt((M0*(1-(L/Ls)) + L + Kd)**2 - (4 * M0*(1-(L/Ls)) * L)))/(2 * M0*(1-(L/Ls)))\r\n",
        "\r\n",
        "print(Y)"
      ],
      "execution_count": 4,
      "outputs": [
        {
          "output_type": "stream",
          "text": [
            "0.18445396772899691\n"
          ],
          "name": "stdout"
        }
      ]
    },
    {
      "cell_type": "code",
      "metadata": {
        "colab": {
          "base_uri": "https://localhost:8080/",
          "height": 352
        },
        "id": "toTF0xeFneH6",
        "outputId": "2a79f090-7b4d-4668-8732-72e042e3ad9b"
      },
      "source": [
        "# for drawing the graph\n",
        "%matplotlib inline\n",
        "import matplotlib.pyplot as plt\n",
        "# math function as above\n",
        "from math import sqrt\n",
        "# for creating the L values over which to sample the function. Would also be nice to capture the results in a more sophisticated array.\n",
        "import numpy as np\n",
        "\n",
        "M0 = 0.1\n",
        "Kd = 0.2\n",
        "\n",
        "Ls = 10.0\n",
        "Llow = 0.001\n",
        "Lhigh = 1.0\n",
        "nL = 101\n",
        "\n",
        "Lval = np.linspace(Llow, Lhigh, nL)\n",
        "\n",
        "Yval = []\n",
        "Mprop = []\n",
        "Lprop = []\n",
        "Lookup = [] # could be np.array()\n",
        "for L in Lval:\n",
        "  Y = ((M0*(1-(L/Ls)) + L + Kd) - sqrt((M0*(1-(L/Ls)) + L + Kd)**2 - (4 * M0*(1-(L/Ls)) * L)))/(2 * M0*(1-(L/Ls)))\n",
        "  Yval.append(Y)\n",
        "  Mprop.append((1-(L/Ls)))\n",
        "  Lprop.append(L/Lhigh)\n",
        "  Lookup.append([L,Y])\n",
        "\n",
        "# crude numerical output - should be formatted better\n",
        "print(\"Lookup: [L], Y...\", Lookup)\n",
        "\n",
        "#plot the results\n",
        "plt.title(\"simulated binding curve\")\n",
        "plt.xlabel('[L] (mM)')\n",
        "plt.ylabel('Y')\n",
        "plt.plot(Lval,Yval, label='Y')\n",
        "plt.plot(Lval,Mprop, label='Mprop')\n",
        "plt.plot(Lval,Lprop, label='Lprop')\n",
        "plt.legend()\n",
        "\n"
      ],
      "execution_count": 10,
      "outputs": [
        {
          "output_type": "stream",
          "text": [
            "Lookup: [L], Y... [[0.001, 0.0033260445416909657], [0.01099, 0.0357621888972918], [0.020980000000000002, 0.0667929692119803], [0.030970000000000004, 0.09646667574107139], [0.04096, 0.12483305320183218], [0.05095, 0.15194276256703357], [0.06094000000000001, 0.17784689005911342], [0.07093, 0.2025965080994493], [0.08092, 0.2262422904963959], [0.09091, 0.2488341820568926], [0.1009, 0.2704211211141945], [0.11089, 0.2910508121775365], [0.12088000000000002, 0.3107695450010561], [0.13087000000000001, 0.32962205579507103], [0.14086, 0.34765142600988597], [0.15085, 0.3648990140554766], [0.16084, 0.3814044154264474], [0.17083, 0.3972054469326023], [0.18082, 0.41233815104995947], [0.19081, 0.42683681677106644], [0.2008, 0.4407340137201978], [0.21079, 0.4540606366880387], [0.22078, 0.4668459581171774], [0.23077, 0.47911768642415803], [0.24076000000000003, 0.49090202836984326], [0.25075000000000003, 0.5022237539842168], [0.26074, 0.5131062628133873], [0.27073, 0.5235716504860751], [0.28072, 0.533640774795707], [0.29071, 0.5433333206647458], [0.3007, 0.5526678635025517], [0.31069, 0.5616619305896883], [0.32068, 0.5703320602228297], [0.33067, 0.5786938584379452], [0.34066, 0.5867620531976026], [0.35065, 0.5945505459833421], [0.36064, 0.6020724607780256], [0.37063, 0.6093401904576747], [0.38062, 0.6163654406391281], [0.39061, 0.6231592710501441], [0.4006, 0.6297321345035515], [0.41059, 0.636093913567664], [0.42058, 0.6422539550322425], [0.43057, 0.6482211022735154], [0.44056, 0.6540037256237465], [0.45055, 0.6596097508510073], [0.46054, 0.665046685853649], [0.47053, 0.6703216456717103], [0.48052000000000006, 0.6754413759144804], [0.49051000000000006, 0.6804122746998738], [0.5005000000000001, 0.6852404131972714], [0.51049, 0.6899315548613093], [0.52048, 0.6944911734397026], [0.53047, 0.6989244698338388], [0.54046, 0.7032363878864886], [0.55045, 0.7074316291666697], [0.56044, 0.7115146668175432], [0.57043, 0.7154897585291644], [0.58042, 0.7193609586940296], [0.59041, 0.7231321297996618], [0.6004, 0.7268069531089576], [0.61039, 0.7303889386756665], [0.62038, 0.7338814347392354], [0.63037, 0.7372876365402875], [0.64036, 0.7406105945951906], [0.6503500000000001, 0.743853222465586], [0.66034, 0.7470183040562838], [0.6703300000000001, 0.7501085004726302], [0.68032, 0.7531263564663385], [0.6903100000000001, 0.7560743064967635], [0.7003, 0.7589546804327411], [0.7102900000000001, 0.7617697089183854], [0.72028, 0.764521528424632], [0.7302700000000001, 0.7672121860067965], [0.74026, 0.7698436437870425], [0.7502500000000001, 0.7724177831793426], [0.76024, 0.774936408873326], [0.7702300000000001, 0.7774012525922651], [0.78022, 0.779813976639432], [0.7902100000000001, 0.7821761772460906], [0.8002, 0.7844893877334624], [0.8101900000000001, 0.7867550815002207], [0.82018, 0.7889746748462387], [0.8301700000000001, 0.7911495296426397], [0.84016, 0.7932809558575042], [0.8501500000000001, 0.7953702139459783], [0.86014, 0.7974185171129434], [0.8701300000000001, 0.7994270334558773], [0.88012, 0.8013968879950268], [0.8901100000000001, 0.803329164597569], [0.9001, 0.8052249078019661], [0.9100900000000001, 0.8070851245483702], [0.92008, 0.8089107858205135], [0.9300700000000001, 0.810702828204193], [0.94006, 0.812462155367142], [0.9500500000000001, 0.8141896394647518], [0.9600400000000001, 0.8158861224758512], [0.9700300000000001, 0.8175524174724812], [0.9800200000000001, 0.8191893098273451], [0.9900100000000001, 0.8207975583624122], [1.0, 0.8223778964419071]]\n"
          ],
          "name": "stdout"
        },
        {
          "output_type": "execute_result",
          "data": {
            "text/plain": [
              "<matplotlib.legend.Legend at 0x7f0f283823c8>"
            ]
          },
          "metadata": {
            "tags": []
          },
          "execution_count": 10
        },
        {
          "output_type": "display_data",
          "data": {
            "image/png": "[encoded data removed]",
            "text/plain": [
              "<Figure size 432x288 with 1 Axes>"
            ]
          },
          "metadata": {
            "tags": [],
            "needs_background": "light"
          }
        }
      ]
    }
  ]
}