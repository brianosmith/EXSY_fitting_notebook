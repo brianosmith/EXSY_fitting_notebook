{
  "nbformat": 4,
  "nbformat_minor": 0,
  "metadata": {
    "colab": {
      "name": "Saturation curves for ligand binding",
      "provenance": [],
      "collapsed_sections": [],
      "authorship_tag": "ABX9TyOn95tfmzf7jyeNJZb0LrRD",
      "include_colab_link": true
    },
    "kernelspec": {
      "name": "python3",
      "display_name": "Python 3"
    }
  },
  "cells": [
    {
      "cell_type": "markdown",
      "metadata": {
        "id": "view-in-github",
        "colab_type": "text"
      },
      "source": [
        "<a href=\"https://colab.research.google.com/github/brianosmith/EXSY_fitting_notebook/blob/master/Saturation_curves_for_ligand_binding.ipynb\" target=\"_parent\"><img src=\"https://colab.research.google.com/assets/colab-badge.svg\" alt=\"Open In Colab\"/></a>"
      ]
    },
    {
      "cell_type": "markdown",
      "metadata": {
        "id": "W3Z6qDwWEkpD"
      },
      "source": [
        "#Saturation curves for ligand binding\n",
        "\n",
        "Goal is to produce a tool to calculate e.g. [L] required for a set fractional saturation at a known [M] or vice versa."
      ]
    },
    {
      "cell_type": "markdown",
      "metadata": {
        "id": "OgLEsP0EE_Fi"
      },
      "source": [
        "First simulate Y and plot it\n",
        "\n",
        "$\n",
        "Y = \\frac{([M_{tot}] + [L_{tot}] + K_d) \\pm \\sqrt{([M_{tot}] + [L_{tot}] + K_d)^2 - 4[M_{tot}][L_{tot}]} }{ 2[M_{tot}]}\n",
        "$\n",
        "\n",
        "which is typically going to subtract the positive root of the square root from the sum."
      ]
    },
    {
      "cell_type": "code",
      "metadata": {
        "id": "d9JioLoAEaEs",
        "colab": {
          "base_uri": "https://localhost:8080/"
        },
        "outputId": "06099271-d262-4e98-f443-e256fcee6984"
      },
      "source": [
        "# sqrt is in the math package and has to be imported\n",
        "from math import sqrt\n",
        "\n",
        "# some values to calculate with\n",
        "M = 0.5\n",
        "Kd = 0.15\n",
        "L = 0.125\n",
        "\n",
        "# careful placement of brackets required to get the correct evaluation order\n",
        "# x**y to raise a value to a power\n",
        "\n",
        "Y = ((M + L + Kd) - sqrt((M + L + Kd)**2 - (4 * M * L)))/(2 * M)\n",
        "\n",
        "print(Y)"
      ],
      "execution_count": 2,
      "outputs": [
        {
          "output_type": "stream",
          "text": [
            "0.1828640358836494\n"
          ],
          "name": "stdout"
        }
      ]
    },
    {
      "cell_type": "code",
      "metadata": {
        "id": "gyBcwiKpTo6y",
        "colab": {
          "base_uri": "https://localhost:8080/",
          "height": 352
        },
        "outputId": "e2b344df-3db4-4be4-9ad8-ae33d35a09d7"
      },
      "source": [
        "# for drawing the graph\n",
        "%matplotlib inline\n",
        "import matplotlib.pyplot as plt\n",
        "# math function as above\n",
        "from math import sqrt\n",
        "# for creating the L values over which to sample the function. Would also be nice to capture the results in a more sophisticated array.\n",
        "import numpy as np\n",
        "\n",
        "M = 0.1\n",
        "Kd = 0.2\n",
        "\n",
        "Llow = 0.1\n",
        "Lhigh = 1.0\n",
        "nL = 11\n",
        "\n",
        "Lval = np.linspace(Llow, Lhigh, nL)\n",
        "\n",
        "Yval = []\n",
        "Lookup = [] # could be np.array()\n",
        "for L in Lval:\n",
        "  Y = ((M + L + Kd) - sqrt((M + L + Kd)**2 - (4 * M * L)))/(2 * M)\n",
        "  Yval.append(Y)\n",
        "  Lookup.append([L,Y])\n",
        "\n",
        "# crude numerical output - should be formatted better\n",
        "print(\"Lookup: [L], Y...\", Lookup)\n",
        "\n",
        "#plot the results\n",
        "plt.title(\"simulated binding curve\")\n",
        "plt.xlabel('[L] (mM)')\n",
        "plt.ylabel('Y')\n",
        "plt.plot(Lval,Yval, label='Y')\n",
        "#plt.legend()\n",
        "\n"
      ],
      "execution_count": 8,
      "outputs": [
        {
          "output_type": "stream",
          "text": [
            "Lookup: [L], Y... [[0.1, 0.26794919243112253], [0.19, 0.4245370899470907], [0.28, 0.5314561435345977], [0.37, 0.6072823696195045], [0.45999999999999996, 0.6631225717283756], [0.5499999999999999, 0.7056382803105438], [0.64, 0.7389395359323281], [0.73, 0.7656528422124237], [0.82, 0.7875162337936142], [0.9099999999999999, 0.8057173989190858], [1.0, 0.8210916541997271]]\n"
          ],
          "name": "stdout"
        },
        {
          "output_type": "execute_result",
          "data": {
            "text/plain": [
              "[<matplotlib.lines.Line2D at 0x7f965037b588>]"
            ]
          },
          "metadata": {
            "tags": []
          },
          "execution_count": 8
        },
        {
          "output_type": "display_data",
          "data": {
            "image/png": "[encoded data removed]",
            "text/plain": [
              "<Figure size 432x288 with 1 Axes>"
            ]
          },
          "metadata": {
            "tags": [],
            "needs_background": "light"
          }
        }
      ]
    },
    {
      "cell_type": "markdown",
      "metadata": {
        "id": "Y7DkTRIx7qIM"
      },
      "source": [
        "can we make an equation solver to give us [L] using sympy?"
      ]
    },
    {
      "cell_type": "code",
      "metadata": {
        "id": "SMnZGvok7o19",
        "colab": {
          "base_uri": "https://localhost:8080/",
          "height": 58
        },
        "outputId": "9f2b11e2-9a99-4709-db71-11cd5c423112"
      },
      "source": [
        "from sympy import *\n",
        "Y, M, L, Kd = symbols('Y M L Kd')\n",
        "init_printing(use_unicode=True)\n",
        "\n",
        "Eq(Y, ((M + L + Kd) - sqrt((M + L + Kd)**2 - (4 * M * L)))/(2 * M))\n",
        "\n",
        "solveset(Eq(Y, ((M + L + Kd) - sqrt((M + L + Kd)**2 - (4 * M * L)))/(2 * M)), L)\n"
      ],
      "execution_count": null,
      "outputs": [
        {
          "output_type": "execute_result",
          "data": {
            "image/png": "[encoded data removed]",
            "text/latex": "$$\\left\\{L\\; |\\; L \\in \\left\\{- \\frac{Y}{Y - 1} \\left(Kd - M Y + M\\right)\\right\\} \\wedge - Kd - L + 2 M Y - M + \\sqrt{- 4 L M + \\left(Kd + L + M\\right)^{2}} = 0 \\right\\}$$",
            "text/plain": [
              "⎧                                                        _____________________\n",
              "⎪        ⎧-Y⋅(Kd - M⋅Y + M) ⎫                           ╱                     \n",
              "⎨L | L ∊ ⎨──────────────────⎬ ∧ -Kd - L + 2⋅M⋅Y - M + ╲╱  -4⋅L⋅M + (Kd + L + M\n",
              "⎪        ⎩      Y - 1       ⎭                                                 \n",
              "⎩                                                                             \n",
              "\n",
              "___    ⎫\n",
              " 2     ⎪\n",
              ")   = 0⎬\n",
              "       ⎪\n",
              "       ⎭"
            ]
          },
          "metadata": {
            "tags": []
          },
          "execution_count": 44
        }
      ]
    },
    {
      "cell_type": "markdown",
      "metadata": {
        "id": "3r3GumIe-_8M"
      },
      "source": [
        "can we now solve for L for particular values of Y, M & Kd?"
      ]
    },
    {
      "cell_type": "code",
      "metadata": {
        "id": "ZcsmXsA_-_cd",
        "colab": {
          "base_uri": "https://localhost:8080/",
          "height": 37
        },
        "outputId": "7df7074e-cd63-4ceb-b464-c042a17cd488"
      },
      "source": [
        "#still using sympy and the symbols imported and defined above\n",
        "fracSat = (((M + L + Kd) - sqrt((M + L + Kd)**2 - (4 * M * L)))/(2 * M)) - Y\n",
        "\n",
        "newFracSat=fracSat.subs([(Y, 0.5), (M, 0.25), (Kd, 0.18)])\n",
        "\n",
        "solveset(newFracSat, L)"
      ],
      "execution_count": null,
      "outputs": [
        {
          "output_type": "execute_result",
          "data": {
            "image/png": "[encoded data removed]",
            "text/latex": "$$\\left\\{0.305\\right\\}$$",
            "text/plain": [
              "{0.305}"
            ]
          },
          "metadata": {
            "tags": []
          },
          "execution_count": 58
        }
      ]
    }
  ]
}